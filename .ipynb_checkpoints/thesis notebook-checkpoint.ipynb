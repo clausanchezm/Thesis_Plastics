{
 "cells": [
  {
   "cell_type": "code",
   "execution_count": 4,
   "id": "fca79881",
   "metadata": {
    "pycharm": {
     "is_executing": true
    }
   },
   "outputs": [
    {
     "data": {
      "text/plain": [
       "'/tf/thesis_plastics'"
      ]
     },
     "execution_count": 4,
     "metadata": {},
     "output_type": "execute_result"
    }
   ],
   "source": [
    "import numpy as np\n",
    "import pandas as pd\n",
    "import matplotlib.pyplot as plt\n",
    "import seaborn as sns\n",
    "from sklearn.decomposition import PCA\n",
    "from sklearn.preprocessing import StandardScaler\n",
    "from sklearn.model_selection import train_test_split\n",
    "\n",
    "from sklearn.preprocessing import scale\n",
    "\n",
    "import os \n",
    "os.getcwd()"
   ]
  },
  {
   "cell_type": "code",
   "execution_count": 5,
   "id": "6ccb917e",
   "metadata": {
    "scrolled": true
   },
   "outputs": [
    {
     "ename": "ImportError",
     "evalue": "Missing optional dependency 'openpyxl'.  Use pip or conda to install openpyxl.",
     "output_type": "error",
     "traceback": [
      "\u001b[0;31m---------------------------------------------------------------------------\u001b[0m",
      "\u001b[0;31mModuleNotFoundError\u001b[0m                       Traceback (most recent call last)",
      "File \u001b[0;32m/usr/local/lib/python3.8/dist-packages/pandas/compat/_optional.py:142\u001b[0m, in \u001b[0;36mimport_optional_dependency\u001b[0;34m(name, extra, errors, min_version)\u001b[0m\n\u001b[1;32m    141\u001b[0m \u001b[38;5;28;01mtry\u001b[39;00m:\n\u001b[0;32m--> 142\u001b[0m     module \u001b[38;5;241m=\u001b[39m \u001b[43mimportlib\u001b[49m\u001b[38;5;241;43m.\u001b[39;49m\u001b[43mimport_module\u001b[49m\u001b[43m(\u001b[49m\u001b[43mname\u001b[49m\u001b[43m)\u001b[49m\n\u001b[1;32m    143\u001b[0m \u001b[38;5;28;01mexcept\u001b[39;00m \u001b[38;5;167;01mImportError\u001b[39;00m:\n",
      "File \u001b[0;32m/usr/lib/python3.8/importlib/__init__.py:127\u001b[0m, in \u001b[0;36mimport_module\u001b[0;34m(name, package)\u001b[0m\n\u001b[1;32m    126\u001b[0m         level \u001b[38;5;241m+\u001b[39m\u001b[38;5;241m=\u001b[39m \u001b[38;5;241m1\u001b[39m\n\u001b[0;32m--> 127\u001b[0m \u001b[38;5;28;01mreturn\u001b[39;00m \u001b[43m_bootstrap\u001b[49m\u001b[38;5;241;43m.\u001b[39;49m\u001b[43m_gcd_import\u001b[49m\u001b[43m(\u001b[49m\u001b[43mname\u001b[49m\u001b[43m[\u001b[49m\u001b[43mlevel\u001b[49m\u001b[43m:\u001b[49m\u001b[43m]\u001b[49m\u001b[43m,\u001b[49m\u001b[43m \u001b[49m\u001b[43mpackage\u001b[49m\u001b[43m,\u001b[49m\u001b[43m \u001b[49m\u001b[43mlevel\u001b[49m\u001b[43m)\u001b[49m\n",
      "File \u001b[0;32m<frozen importlib._bootstrap>:1014\u001b[0m, in \u001b[0;36m_gcd_import\u001b[0;34m(name, package, level)\u001b[0m\n",
      "File \u001b[0;32m<frozen importlib._bootstrap>:991\u001b[0m, in \u001b[0;36m_find_and_load\u001b[0;34m(name, import_)\u001b[0m\n",
      "File \u001b[0;32m<frozen importlib._bootstrap>:973\u001b[0m, in \u001b[0;36m_find_and_load_unlocked\u001b[0;34m(name, import_)\u001b[0m\n",
      "\u001b[0;31mModuleNotFoundError\u001b[0m: No module named 'openpyxl'",
      "\nDuring handling of the above exception, another exception occurred:\n",
      "\u001b[0;31mImportError\u001b[0m                               Traceback (most recent call last)",
      "Cell \u001b[0;32mIn[5], line 1\u001b[0m\n\u001b[0;32m----> 1\u001b[0m data \u001b[38;5;241m=\u001b[39m \u001b[43mpd\u001b[49m\u001b[38;5;241;43m.\u001b[39;49m\u001b[43mread_excel\u001b[49m\u001b[43m(\u001b[49m\u001b[43mos\u001b[49m\u001b[38;5;241;43m.\u001b[39;49m\u001b[43mgetcwd\u001b[49m\u001b[43m(\u001b[49m\u001b[43m)\u001b[49m\u001b[43m \u001b[49m\u001b[38;5;241;43m+\u001b[39;49m\u001b[43m \u001b[49m\u001b[38;5;124;43m'\u001b[39;49m\u001b[38;5;124;43m/data/Dataset_May2022_RD.xlsx\u001b[39;49m\u001b[38;5;124;43m'\u001b[39;49m\u001b[43m)\u001b[49m\n",
      "File \u001b[0;32m/usr/local/lib/python3.8/dist-packages/pandas/io/excel/_base.py:478\u001b[0m, in \u001b[0;36mread_excel\u001b[0;34m(io, sheet_name, header, names, index_col, usecols, dtype, engine, converters, true_values, false_values, skiprows, nrows, na_values, keep_default_na, na_filter, verbose, parse_dates, date_parser, date_format, thousands, decimal, comment, skipfooter, storage_options, dtype_backend)\u001b[0m\n\u001b[1;32m    476\u001b[0m \u001b[38;5;28;01mif\u001b[39;00m \u001b[38;5;129;01mnot\u001b[39;00m \u001b[38;5;28misinstance\u001b[39m(io, ExcelFile):\n\u001b[1;32m    477\u001b[0m     should_close \u001b[38;5;241m=\u001b[39m \u001b[38;5;28;01mTrue\u001b[39;00m\n\u001b[0;32m--> 478\u001b[0m     io \u001b[38;5;241m=\u001b[39m \u001b[43mExcelFile\u001b[49m\u001b[43m(\u001b[49m\u001b[43mio\u001b[49m\u001b[43m,\u001b[49m\u001b[43m \u001b[49m\u001b[43mstorage_options\u001b[49m\u001b[38;5;241;43m=\u001b[39;49m\u001b[43mstorage_options\u001b[49m\u001b[43m,\u001b[49m\u001b[43m \u001b[49m\u001b[43mengine\u001b[49m\u001b[38;5;241;43m=\u001b[39;49m\u001b[43mengine\u001b[49m\u001b[43m)\u001b[49m\n\u001b[1;32m    479\u001b[0m \u001b[38;5;28;01melif\u001b[39;00m engine \u001b[38;5;129;01mand\u001b[39;00m engine \u001b[38;5;241m!=\u001b[39m io\u001b[38;5;241m.\u001b[39mengine:\n\u001b[1;32m    480\u001b[0m     \u001b[38;5;28;01mraise\u001b[39;00m \u001b[38;5;167;01mValueError\u001b[39;00m(\n\u001b[1;32m    481\u001b[0m         \u001b[38;5;124m\"\u001b[39m\u001b[38;5;124mEngine should not be specified when passing \u001b[39m\u001b[38;5;124m\"\u001b[39m\n\u001b[1;32m    482\u001b[0m         \u001b[38;5;124m\"\u001b[39m\u001b[38;5;124man ExcelFile - ExcelFile already has the engine set\u001b[39m\u001b[38;5;124m\"\u001b[39m\n\u001b[1;32m    483\u001b[0m     )\n",
      "File \u001b[0;32m/usr/local/lib/python3.8/dist-packages/pandas/io/excel/_base.py:1513\u001b[0m, in \u001b[0;36mExcelFile.__init__\u001b[0;34m(self, path_or_buffer, engine, storage_options)\u001b[0m\n\u001b[1;32m   1510\u001b[0m \u001b[38;5;28mself\u001b[39m\u001b[38;5;241m.\u001b[39mengine \u001b[38;5;241m=\u001b[39m engine\n\u001b[1;32m   1511\u001b[0m \u001b[38;5;28mself\u001b[39m\u001b[38;5;241m.\u001b[39mstorage_options \u001b[38;5;241m=\u001b[39m storage_options\n\u001b[0;32m-> 1513\u001b[0m \u001b[38;5;28mself\u001b[39m\u001b[38;5;241m.\u001b[39m_reader \u001b[38;5;241m=\u001b[39m \u001b[38;5;28;43mself\u001b[39;49m\u001b[38;5;241;43m.\u001b[39;49m\u001b[43m_engines\u001b[49m\u001b[43m[\u001b[49m\u001b[43mengine\u001b[49m\u001b[43m]\u001b[49m\u001b[43m(\u001b[49m\u001b[38;5;28;43mself\u001b[39;49m\u001b[38;5;241;43m.\u001b[39;49m\u001b[43m_io\u001b[49m\u001b[43m,\u001b[49m\u001b[43m \u001b[49m\u001b[43mstorage_options\u001b[49m\u001b[38;5;241;43m=\u001b[39;49m\u001b[43mstorage_options\u001b[49m\u001b[43m)\u001b[49m\n",
      "File \u001b[0;32m/usr/local/lib/python3.8/dist-packages/pandas/io/excel/_openpyxl.py:548\u001b[0m, in \u001b[0;36mOpenpyxlReader.__init__\u001b[0;34m(self, filepath_or_buffer, storage_options)\u001b[0m\n\u001b[1;32m    533\u001b[0m \u001b[38;5;129m@doc\u001b[39m(storage_options\u001b[38;5;241m=\u001b[39m_shared_docs[\u001b[38;5;124m\"\u001b[39m\u001b[38;5;124mstorage_options\u001b[39m\u001b[38;5;124m\"\u001b[39m])\n\u001b[1;32m    534\u001b[0m \u001b[38;5;28;01mdef\u001b[39;00m \u001b[38;5;21m__init__\u001b[39m(\n\u001b[1;32m    535\u001b[0m     \u001b[38;5;28mself\u001b[39m,\n\u001b[1;32m    536\u001b[0m     filepath_or_buffer: FilePath \u001b[38;5;241m|\u001b[39m ReadBuffer[\u001b[38;5;28mbytes\u001b[39m],\n\u001b[1;32m    537\u001b[0m     storage_options: StorageOptions \u001b[38;5;241m=\u001b[39m \u001b[38;5;28;01mNone\u001b[39;00m,\n\u001b[1;32m    538\u001b[0m ) \u001b[38;5;241m-\u001b[39m\u001b[38;5;241m>\u001b[39m \u001b[38;5;28;01mNone\u001b[39;00m:\n\u001b[1;32m    539\u001b[0m \u001b[38;5;250m    \u001b[39m\u001b[38;5;124;03m\"\"\"\u001b[39;00m\n\u001b[1;32m    540\u001b[0m \u001b[38;5;124;03m    Reader using openpyxl engine.\u001b[39;00m\n\u001b[1;32m    541\u001b[0m \n\u001b[0;32m   (...)\u001b[0m\n\u001b[1;32m    546\u001b[0m \u001b[38;5;124;03m    {storage_options}\u001b[39;00m\n\u001b[1;32m    547\u001b[0m \u001b[38;5;124;03m    \"\"\"\u001b[39;00m\n\u001b[0;32m--> 548\u001b[0m     \u001b[43mimport_optional_dependency\u001b[49m\u001b[43m(\u001b[49m\u001b[38;5;124;43m\"\u001b[39;49m\u001b[38;5;124;43mopenpyxl\u001b[39;49m\u001b[38;5;124;43m\"\u001b[39;49m\u001b[43m)\u001b[49m\n\u001b[1;32m    549\u001b[0m     \u001b[38;5;28msuper\u001b[39m()\u001b[38;5;241m.\u001b[39m\u001b[38;5;21m__init__\u001b[39m(filepath_or_buffer, storage_options\u001b[38;5;241m=\u001b[39mstorage_options)\n",
      "File \u001b[0;32m/usr/local/lib/python3.8/dist-packages/pandas/compat/_optional.py:145\u001b[0m, in \u001b[0;36mimport_optional_dependency\u001b[0;34m(name, extra, errors, min_version)\u001b[0m\n\u001b[1;32m    143\u001b[0m \u001b[38;5;28;01mexcept\u001b[39;00m \u001b[38;5;167;01mImportError\u001b[39;00m:\n\u001b[1;32m    144\u001b[0m     \u001b[38;5;28;01mif\u001b[39;00m errors \u001b[38;5;241m==\u001b[39m \u001b[38;5;124m\"\u001b[39m\u001b[38;5;124mraise\u001b[39m\u001b[38;5;124m\"\u001b[39m:\n\u001b[0;32m--> 145\u001b[0m         \u001b[38;5;28;01mraise\u001b[39;00m \u001b[38;5;167;01mImportError\u001b[39;00m(msg)\n\u001b[1;32m    146\u001b[0m     \u001b[38;5;28;01mreturn\u001b[39;00m \u001b[38;5;28;01mNone\u001b[39;00m\n\u001b[1;32m    148\u001b[0m \u001b[38;5;66;03m# Handle submodules: if we have submodule, grab parent module from sys.modules\u001b[39;00m\n",
      "\u001b[0;31mImportError\u001b[0m: Missing optional dependency 'openpyxl'.  Use pip or conda to install openpyxl."
     ]
    }
   ],
   "source": [
    "data = pd.read_excel(os.getcwd() + '/data/Dataset_May2022_RD.xlsx')"
   ]
  },
  {
   "cell_type": "code",
   "execution_count": null,
   "id": "d93714b1",
   "metadata": {},
   "outputs": [],
   "source": [
    "data.describe()"
   ]
  },
  {
   "cell_type": "code",
   "execution_count": 3,
   "id": "efcdd651",
   "metadata": {},
   "outputs": [
    {
     "ename": "NameError",
     "evalue": "name 'data' is not defined",
     "output_type": "error",
     "traceback": [
      "\u001b[0;31m---------------------------------------------------------------------------\u001b[0m",
      "\u001b[0;31mNameError\u001b[0m                                 Traceback (most recent call last)",
      "Cell \u001b[0;32mIn[3], line 1\u001b[0m\n\u001b[0;32m----> 1\u001b[0m \u001b[43mdata\u001b[49m\u001b[38;5;241m.\u001b[39mshape\n",
      "\u001b[0;31mNameError\u001b[0m: name 'data' is not defined"
     ]
    }
   ],
   "source": [
    "data.shape"
   ]
  },
  {
   "cell_type": "markdown",
   "id": "613887b6",
   "metadata": {},
   "source": [
    "We have 328 instances with 47 features. HOW TO HANDLE THAT MANY ATTRIBUTES WITH SO LITTLE DATA"
   ]
  },
  {
   "cell_type": "code",
   "execution_count": null,
   "id": "aa3562a8",
   "metadata": {},
   "outputs": [],
   "source": [
    "data.head()"
   ]
  },
  {
   "cell_type": "code",
   "execution_count": null,
   "id": "971184b1",
   "metadata": {},
   "outputs": [],
   "source": [
    "LDPE1 = data[data['MajorityPolymer'] == 'LDPE1']\n",
    "\n",
    "agg = data.groupby('MajorityPolymer').agg('mean')\n",
    "\n",
    "LDPE1.head()"
   ]
  },
  {
   "cell_type": "code",
   "execution_count": null,
   "id": "6ceb09dd",
   "metadata": {},
   "outputs": [],
   "source": [
    "LDPE1.head()\n",
    "LDPE1_num = LDPE1[['WeightImpurity', 'POL', 'NOK', 'NOA','matrixE', 'matrixSTRENGTH', 'matrixStrainbreak' , 'matrixImpact', 'impurityE', 'impuritySTRENGTH', 'impurityStrainbreak', 'impurityImpact', 'matrixXc', 'impurityXc' , 'gammaABWu', 'Ddeltad2', 'Ddeltap2', 'Ddeltah2', 'blendE', 'blendSTRENGTH' ,'blendStrainbreak',\n",
    "                'blendImpact','EblendOpEmatrix', 'STRENGTHblendOpSTRENGTHmatrix', 'StrainbreakblendOpStrainbreakmatrix', 'ImpactblendOpImpactmatrix'  ]] \n",
    "# hist= plt.hist(LDPE1_num)\n",
    "# LDPE1_num.head()"
   ]
  },
  {
   "cell_type": "code",
   "execution_count": null,
   "id": "f61cdbf3",
   "metadata": {},
   "outputs": [],
   "source": [
    "data['POL'].unique()"
   ]
  },
  {
   "cell_type": "code",
   "execution_count": null,
   "id": "647a3078",
   "metadata": {},
   "outputs": [],
   "source": [
    "q2house2 = data[\"STRENGTHblendOpSTRENGTHmatrix\"][data[\"Matrix_family\"] =='Polyolefin'].iloc[1].item()\n",
    "plt.hist(q2house2)"
   ]
  },
  {
   "cell_type": "code",
   "execution_count": 26,
   "id": "b498ad85",
   "metadata": {},
   "outputs": [],
   "source": [
    "center_data = lambda x: x - x.mean()"
   ]
  },
  {
   "cell_type": "markdown",
   "id": "aa305ce5",
   "metadata": {},
   "source": [
    "to find the principal all categorical features must be encoded, for such we create dummy vars for the different polymers in the blend. 'HDPE1', 'LLDPE1', 'PP1', 'PP2', 'LDPE1', 'PP3', 'PET1', 'PS1',\n",
    "       'PS2', 'PA1'\n",
    "       \n",
    "       \n",
    "Matriix crystalinity can also be encoded theres low high and amorphous; ORDINAL?? \n",
    "\n",
    "matrix class? donnt know what it means, ['POL', 'POK', 'NOA', 'NOK'] same for contaminant,['POK', 'PURE', 'POL', 'NOK', 'NOA'], then theres class combo which is the combinatio of both of them so it will be droped\n",
    "\n",
    "what are reeks??\n",
    "\n",
    "Topology, \n",
    "PRROBLRMS:\n",
    "SCB has none low high(0,1) and LCB has none and high(0,1,2). is crystalinity ordinal?. \n",
    "\n",
    "how to get the names of the components!!\n",
    "\n",
    "**update 1/5 Anna: \n",
    "\n",
    "EblendOpEmatrix',\n",
    "       'STRENGTHblendOpSTRENGTHmatrix',\n",
    "       'StrainbreakblendOpStrainbreakmatrix', 'ImpactblendOpImpactmatrix'. such cols are ratios between the majority plastic and the blend given the feature. \n",
    "       \n",
    "       \n",
    "       'gammaABWu', 'Ddeltad2', 'Ddeltap2', 'Ddeltah2 cols are theoretical estimations that surge then teh classification of the families. thus cols Matrix Class','Impurity Class', 'Class Combo', 'POL', 'POK', 'NOK', 'NOA', are not used"
   ]
  },
  {
   "cell_type": "code",
   "execution_count": 27,
   "id": "071d6eb1",
   "metadata": {},
   "outputs": [
    {
     "data": {
      "text/plain": [
       "array(['POK', 'PURE', 'POL', 'NOK', 'NOA'], dtype=object)"
      ]
     },
     "execution_count": 27,
     "metadata": {},
     "output_type": "execute_result"
    }
   ],
   "source": [
    "data['Impurity Class'].unique()"
   ]
  },
  {
   "cell_type": "code",
   "execution_count": 28,
   "id": "33bbb8be",
   "metadata": {},
   "outputs": [
    {
     "data": {
      "text/plain": [
       "array([5, 1, 2, 4, 7, 3, 6], dtype=int64)"
      ]
     },
     "execution_count": 28,
     "metadata": {},
     "output_type": "execute_result"
    }
   ],
   "source": [
    "data['Contaminant_viscosity'].unique()\n"
   ]
  },
  {
   "cell_type": "code",
   "execution_count": 3,
   "id": "28e9a45d",
   "metadata": {},
   "outputs": [
    {
     "data": {
      "text/plain": [
       "array(['Reeks', 'NAAM', 'SERIE', 'MajorityPolymer', 'MinorityPolymer',\n",
       "       'Matrix_family', 'Matrix_crystallinity', 'Matrix_topology',\n",
       "       'Matrix_SCB', 'Matrix_LCB', 'Matrix_viscosity',\n",
       "       'Contaminant_family', 'Contaminant_crystallinity',\n",
       "       'Contaminant_topology', 'Contaminant_SCB', 'Contaminant_LCB',\n",
       "       'Contaminant_viscosity', 'WeightImpurity', 'Matrix Class',\n",
       "       'Impurity Class', 'Class Combo', 'POL', 'POK', 'NOK', 'NOA',\n",
       "       'matrixE', 'matrixSTRENGTH', 'matrixStrainbreak', 'matrixImpact',\n",
       "       'impurityE', 'impuritySTRENGTH', 'impurityStrainbreak',\n",
       "       'impurityImpact', 'matrixXc', 'impurityXc', 'gammaABWu',\n",
       "       'Ddeltad2', 'Ddeltap2', 'Ddeltah2', 'blendE', 'blendSTRENGTH',\n",
       "       'blendStrainbreak', 'blendImpact', 'EblendOpEmatrix',\n",
       "       'STRENGTHblendOpSTRENGTHmatrix',\n",
       "       'StrainbreakblendOpStrainbreakmatrix', 'ImpactblendOpImpactmatrix'],\n",
       "      dtype=object)"
      ]
     },
     "execution_count": 3,
     "metadata": {},
     "output_type": "execute_result"
    }
   ],
   "source": [
    "d = data\n",
    "# ratio of polymerB \n",
    "d = d.replace({'impurityXc': {'PURE': 0}})\n",
    "\n",
    "#POLYFINE VS NON POLYSINE \n",
    "d = d.replace({'Matrix_family': {'Polyolefin': 0, 'Non-Polyolefin': 1}})\n",
    "d = d.replace({'Contaminant_family': {'Polyolefin': 0, 'Non-Polyolefin': 1}})\n",
    "\n",
    "# Branched or linear topology \n",
    "d = d.replace({'Matrix_topology': {'Branched': 0, 'Linear': 1}})\n",
    "d = d.replace({'Contaminant_topology': {'Branched': 0, 'Linear': 1}})\n",
    "\n",
    "# crystlainity, amorphous shoudl be the lowest \n",
    "d = d.replace({'Matrix_crystallinity': {'Low': 1, 'Amorphous': 0, 'High': 2}})\n",
    "d = d.replace({'Contaminant_crystallinity': {'Low': 1, 'Amorphous': 0, 'High': 2}})\n",
    "\n",
    "# SCB\n",
    "d = d.replace({'Matrix_SCB': {'None': 0, 'High': 1}})\n",
    "d = d.replace({'Contaminant_SCB': {'None': 0, 'High': 1}})\n",
    "\n",
    "# LCB\n",
    "d = d.replace({'Matrix_LCB': {'None': 0, 'Low' :1, 'High': 2}})\n",
    "d = d.replace({'Contaminant_LCB': {'None': 0, 'Low': 1, 'High': 2}})\n",
    "\n",
    "\n",
    "# to be done,encode polymer types of blends and matrix family x2\n",
    "d.columns.values"
   ]
  },
  {
   "cell_type": "code",
   "execution_count": 4,
   "id": "4d42909e",
   "metadata": {},
   "outputs": [
    {
     "data": {
      "text/plain": [
       "array(['MajorityPolymer', 'MinorityPolymer', 'Matrix_family',\n",
       "       'Matrix_crystallinity', 'Matrix_topology', 'Matrix_SCB',\n",
       "       'Matrix_LCB', 'Matrix_viscosity', 'Contaminant_family',\n",
       "       'Contaminant_crystallinity', 'Contaminant_topology',\n",
       "       'Contaminant_SCB', 'Contaminant_LCB', 'Contaminant_viscosity',\n",
       "       'WeightImpurity', 'matrixE', 'matrixSTRENGTH', 'matrixStrainbreak',\n",
       "       'matrixImpact', 'impurityE', 'impuritySTRENGTH',\n",
       "       'impurityStrainbreak', 'impurityImpact', 'matrixXc', 'impurityXc',\n",
       "       'blendE', 'blendSTRENGTH', 'blendStrainbreak', 'blendImpact'],\n",
       "      dtype=object)"
      ]
     },
     "execution_count": 4,
     "metadata": {},
     "output_type": "execute_result"
    }
   ],
   "source": [
    "# dropping series number and name and reeks\n",
    "d = d.drop(['NAAM', 'SERIE', 'Reeks' ], axis=1)\n",
    "\n",
    "# theoretical estimations\n",
    "d = d.drop(['gammaABWu', 'Ddeltad2', 'Ddeltap2', 'Ddeltah2'], axis=1)\n",
    "# Kims classes \n",
    "d = d.drop(['Matrix Class','Impurity Class', 'Class Combo', 'POL', 'POK', 'NOK', 'NOA'], axis=1) \n",
    "# ratios \n",
    "d = d.drop(['EblendOpEmatrix', 'STRENGTHblendOpSTRENGTHmatrix',\n",
    "       'StrainbreakblendOpStrainbreakmatrix', 'ImpactblendOpImpactmatrix' ], axis=1)\n",
    "\n",
    "d.columns.values"
   ]
  },
  {
   "cell_type": "code",
   "execution_count": 5,
   "id": "0529a075",
   "metadata": {},
   "outputs": [
    {
     "data": {
      "text/plain": [
       "47"
      ]
     },
     "execution_count": 5,
     "metadata": {},
     "output_type": "execute_result"
    }
   ],
   "source": [
    "# h1D = pd.get_dummies(d, columns = ['MajorityPolymer', 'MinorityPolymer', 'Matrix Class', 'Impurity Class'])\n",
    "#only encode the type of polymer\n",
    "h1D = pd.get_dummies(d, columns = ['MajorityPolymer', 'MinorityPolymer'])\n",
    "new_df = h1D.select_dtypes(include=np.number)\n",
    "new_df.columns.shape[0]"
   ]
  },
  {
   "cell_type": "code",
   "execution_count": 32,
   "id": "c4f60dfd",
   "metadata": {},
   "outputs": [
    {
     "data": {
      "text/plain": [
       "47"
      ]
     },
     "execution_count": 32,
     "metadata": {},
     "output_type": "execute_result"
    }
   ],
   "source": [
    "h1D.columns.shape[0]"
   ]
  },
  {
   "cell_type": "code",
   "execution_count": 33,
   "id": "c236bdac",
   "metadata": {},
   "outputs": [],
   "source": [
    "# SAVING DATA FILE\n",
    "h1D.to_csv(\"data_reduced.csv\", index=False)"
   ]
  },
  {
   "cell_type": "markdown",
   "id": "3c4931a3",
   "metadata": {},
   "source": [
    "# PERFORMING PCA\n"
   ]
  },
  {
   "cell_type": "code",
   "execution_count": 34,
   "id": "601afabf",
   "metadata": {},
   "outputs": [],
   "source": [
    "cor_mat2 = np.corrcoef(h1D.T)\n",
    "\n",
    "eig_vals, eig_vecs = np.linalg.eig(cor_mat2)"
   ]
  },
  {
   "cell_type": "code",
   "execution_count": 35,
   "id": "0b47a154",
   "metadata": {},
   "outputs": [
    {
     "name": "stdout",
     "output_type": "stream",
     "text": [
      "Eigenvectors \n",
      "[[-0.24149602 -0.0265426  -0.26135131 ... -0.20570755  0.00173295\n",
      "  -0.01578889]\n",
      " [ 0.06086508 -0.05607269  0.4397816  ... -0.01097948 -0.06191367\n",
      "   0.1177487 ]\n",
      " [-0.25258457 -0.05971026  0.10302243 ... -0.13035668 -0.06533381\n",
      "  -0.08409406]\n",
      " ...\n",
      " [ 0.00323586 -0.01851542  0.10150021 ...  0.00522987 -0.13321677\n",
      "   0.02123462]\n",
      " [ 0.05856371 -0.14993177  0.07523981 ...  0.1554793   0.17656806\n",
      "   0.2860602 ]\n",
      " [ 0.06244977 -0.01629916 -0.04477627 ...  0.05389633  0.06120667\n",
      "   0.09916172]]\n",
      "\n",
      "Eigenvalues \n",
      "[ 1.00011168e+01  6.00463772e+00  4.14123631e+00  3.46690528e+00\n",
      "  2.85683413e+00  2.18793481e+00  2.22070629e+00  1.80166079e+00\n",
      "  1.55205314e+00  1.42983297e+00  1.37752318e+00  1.33932639e+00\n",
      "  1.24227731e+00  1.19662055e+00  9.52383221e-01  9.30148346e-01\n",
      "  9.01561980e-01  8.44181816e-01  7.39193029e-01  6.31690971e-01\n",
      "  2.80264934e-01  2.50669601e-01  1.95234605e-01  1.39533877e-01\n",
      "  1.05877424e-01  8.27506947e-02  4.63001882e-02  2.99274503e-02\n",
      "  2.59113442e-02  2.14295441e-02  2.12526658e-03  1.27703026e-03\n",
      "  8.72962089e-04  1.15377464e-14 -1.00192801e-14  8.58425597e-15\n",
      "  6.46567940e-15 -6.07990602e-15  4.59590016e-15 -4.74766366e-15\n",
      "  2.30886403e-15 -3.23564968e-15 -2.52925238e-15 -1.63860852e-15\n",
      " -1.12372604e-15 -1.11270448e-16  5.79794184e-16]\n"
     ]
    }
   ],
   "source": [
    "print('Eigenvectors \\n%s' %eig_vecs)\n",
    "print('\\nEigenvalues \\n%s' %eig_vals)"
   ]
  },
  {
   "cell_type": "code",
   "execution_count": 36,
   "id": "93e7b0d3",
   "metadata": {},
   "outputs": [],
   "source": [
    "# Make a list of (eigenvalue, eigenvector) tuples\n",
    "eig_pairs = [(np.abs(eig_vals[i]), eig_vecs[:,i]) for i in range(len(eig_vals))]\n",
    "\n",
    "# Sort the (eigenvalue, eigenvector) tuples from high to low\n",
    "eig_pairs.sort(key=lambda x: x[0], reverse=True)\n",
    "\n",
    "# # Visually confirm that the list is correctly sorted by decreasing eigenvalues\n",
    "# print('Eigenvalues in descending order:')\n",
    "# for i in eig_pairs:\n",
    "#     print(i[0])\n"
   ]
  },
  {
   "cell_type": "code",
   "execution_count": 37,
   "id": "7d95b8c7",
   "metadata": {},
   "outputs": [
    {
     "data": {
      "image/png": "[encoded data removed]",
      "text/plain": [
       "<Figure size 432x288 with 1 Axes>"
      ]
     },
     "metadata": {
      "needs_background": "light"
     },
     "output_type": "display_data"
    }
   ],
   "source": [
    "# th\n",
    "np.round(eig_vals**2 / sum(eig_vals**2), 2)\n",
    "plt.plot(eig_vals**2);"
   ]
  },
  {
   "cell_type": "code",
   "execution_count": 38,
   "id": "eb4455eb",
   "metadata": {},
   "outputs": [
    {
     "ename": "ValueError",
     "evalue": "shape mismatch: objects cannot be broadcast to a single shape",
     "output_type": "error",
     "traceback": [
      "\u001b[1;31m---------------------------------------------------------------------------\u001b[0m",
      "\u001b[1;31mValueError\u001b[0m                                Traceback (most recent call last)",
      "\u001b[1;32m~\\AppData\\Local\\Temp/ipykernel_16244/2990693358.py\u001b[0m in \u001b[0;36m<module>\u001b[1;34m\u001b[0m\n\u001b[0;32m      8\u001b[0m     \u001b[0mplt\u001b[0m\u001b[1;33m.\u001b[0m\u001b[0mfigure\u001b[0m\u001b[1;33m(\u001b[0m\u001b[0mfigsize\u001b[0m\u001b[1;33m=\u001b[0m\u001b[1;33m(\u001b[0m\u001b[1;36m6\u001b[0m\u001b[1;33m,\u001b[0m \u001b[1;36m4\u001b[0m\u001b[1;33m)\u001b[0m\u001b[1;33m)\u001b[0m\u001b[1;33m\u001b[0m\u001b[1;33m\u001b[0m\u001b[0m\n\u001b[0;32m      9\u001b[0m \u001b[1;33m\u001b[0m\u001b[0m\n\u001b[1;32m---> 10\u001b[1;33m     plt.bar(range(4), var_exp, alpha=0.5, align='center',\n\u001b[0m\u001b[0;32m     11\u001b[0m             label='individual explained variance')\n\u001b[0;32m     12\u001b[0m     plt.step(range(4), cum_var_exp, where='mid',\n",
      "\u001b[1;32mc:\\Users\\33789\\anaconda3\\lib\\site-packages\\matplotlib\\pyplot.py\u001b[0m in \u001b[0;36mbar\u001b[1;34m(x, height, width, bottom, align, data, **kwargs)\u001b[0m\n\u001b[0;32m   2649\u001b[0m         \u001b[0mx\u001b[0m\u001b[1;33m,\u001b[0m \u001b[0mheight\u001b[0m\u001b[1;33m,\u001b[0m \u001b[0mwidth\u001b[0m\u001b[1;33m=\u001b[0m\u001b[1;36m0.8\u001b[0m\u001b[1;33m,\u001b[0m \u001b[0mbottom\u001b[0m\u001b[1;33m=\u001b[0m\u001b[1;32mNone\u001b[0m\u001b[1;33m,\u001b[0m \u001b[1;33m*\u001b[0m\u001b[1;33m,\u001b[0m \u001b[0malign\u001b[0m\u001b[1;33m=\u001b[0m\u001b[1;34m'center'\u001b[0m\u001b[1;33m,\u001b[0m\u001b[1;33m\u001b[0m\u001b[1;33m\u001b[0m\u001b[0m\n\u001b[0;32m   2650\u001b[0m         data=None, **kwargs):\n\u001b[1;32m-> 2651\u001b[1;33m     return gca().bar(\n\u001b[0m\u001b[0;32m   2652\u001b[0m         \u001b[0mx\u001b[0m\u001b[1;33m,\u001b[0m \u001b[0mheight\u001b[0m\u001b[1;33m,\u001b[0m \u001b[0mwidth\u001b[0m\u001b[1;33m=\u001b[0m\u001b[0mwidth\u001b[0m\u001b[1;33m,\u001b[0m \u001b[0mbottom\u001b[0m\u001b[1;33m=\u001b[0m\u001b[0mbottom\u001b[0m\u001b[1;33m,\u001b[0m \u001b[0malign\u001b[0m\u001b[1;33m=\u001b[0m\u001b[0malign\u001b[0m\u001b[1;33m,\u001b[0m\u001b[1;33m\u001b[0m\u001b[1;33m\u001b[0m\u001b[0m\n\u001b[0;32m   2653\u001b[0m         **({\"data\": data} if data is not None else {}), **kwargs)\n",
      "\u001b[1;32mc:\\Users\\33789\\anaconda3\\lib\\site-packages\\matplotlib\\__init__.py\u001b[0m in \u001b[0;36minner\u001b[1;34m(ax, data, *args, **kwargs)\u001b[0m\n\u001b[0;32m   1359\u001b[0m     \u001b[1;32mdef\u001b[0m \u001b[0minner\u001b[0m\u001b[1;33m(\u001b[0m\u001b[0max\u001b[0m\u001b[1;33m,\u001b[0m \u001b[1;33m*\u001b[0m\u001b[0margs\u001b[0m\u001b[1;33m,\u001b[0m \u001b[0mdata\u001b[0m\u001b[1;33m=\u001b[0m\u001b[1;32mNone\u001b[0m\u001b[1;33m,\u001b[0m \u001b[1;33m**\u001b[0m\u001b[0mkwargs\u001b[0m\u001b[1;33m)\u001b[0m\u001b[1;33m:\u001b[0m\u001b[1;33m\u001b[0m\u001b[1;33m\u001b[0m\u001b[0m\n\u001b[0;32m   1360\u001b[0m         \u001b[1;32mif\u001b[0m \u001b[0mdata\u001b[0m \u001b[1;32mis\u001b[0m \u001b[1;32mNone\u001b[0m\u001b[1;33m:\u001b[0m\u001b[1;33m\u001b[0m\u001b[1;33m\u001b[0m\u001b[0m\n\u001b[1;32m-> 1361\u001b[1;33m             \u001b[1;32mreturn\u001b[0m \u001b[0mfunc\u001b[0m\u001b[1;33m(\u001b[0m\u001b[0max\u001b[0m\u001b[1;33m,\u001b[0m \u001b[1;33m*\u001b[0m\u001b[0mmap\u001b[0m\u001b[1;33m(\u001b[0m\u001b[0msanitize_sequence\u001b[0m\u001b[1;33m,\u001b[0m \u001b[0margs\u001b[0m\u001b[1;33m)\u001b[0m\u001b[1;33m,\u001b[0m \u001b[1;33m**\u001b[0m\u001b[0mkwargs\u001b[0m\u001b[1;33m)\u001b[0m\u001b[1;33m\u001b[0m\u001b[1;33m\u001b[0m\u001b[0m\n\u001b[0m\u001b[0;32m   1362\u001b[0m \u001b[1;33m\u001b[0m\u001b[0m\n\u001b[0;32m   1363\u001b[0m         \u001b[0mbound\u001b[0m \u001b[1;33m=\u001b[0m \u001b[0mnew_sig\u001b[0m\u001b[1;33m.\u001b[0m\u001b[0mbind\u001b[0m\u001b[1;33m(\u001b[0m\u001b[0max\u001b[0m\u001b[1;33m,\u001b[0m \u001b[1;33m*\u001b[0m\u001b[0margs\u001b[0m\u001b[1;33m,\u001b[0m \u001b[1;33m**\u001b[0m\u001b[0mkwargs\u001b[0m\u001b[1;33m)\u001b[0m\u001b[1;33m\u001b[0m\u001b[1;33m\u001b[0m\u001b[0m\n",
      "\u001b[1;32mc:\\Users\\33789\\anaconda3\\lib\\site-packages\\matplotlib\\axes\\_axes.py\u001b[0m in \u001b[0;36mbar\u001b[1;34m(self, x, height, width, bottom, align, **kwargs)\u001b[0m\n\u001b[0;32m   2302\u001b[0m                 \u001b[0myerr\u001b[0m \u001b[1;33m=\u001b[0m \u001b[0mself\u001b[0m\u001b[1;33m.\u001b[0m\u001b[0m_convert_dx\u001b[0m\u001b[1;33m(\u001b[0m\u001b[0myerr\u001b[0m\u001b[1;33m,\u001b[0m \u001b[0my0\u001b[0m\u001b[1;33m,\u001b[0m \u001b[0my\u001b[0m\u001b[1;33m,\u001b[0m \u001b[0mself\u001b[0m\u001b[1;33m.\u001b[0m\u001b[0mconvert_yunits\u001b[0m\u001b[1;33m)\u001b[0m\u001b[1;33m\u001b[0m\u001b[1;33m\u001b[0m\u001b[0m\n\u001b[0;32m   2303\u001b[0m \u001b[1;33m\u001b[0m\u001b[0m\n\u001b[1;32m-> 2304\u001b[1;33m         x, height, width, y, linewidth, hatch = np.broadcast_arrays(\n\u001b[0m\u001b[0;32m   2305\u001b[0m             \u001b[1;31m# Make args iterable too.\u001b[0m\u001b[1;33m\u001b[0m\u001b[1;33m\u001b[0m\u001b[1;33m\u001b[0m\u001b[0m\n\u001b[0;32m   2306\u001b[0m             np.atleast_1d(x), height, width, y, linewidth, hatch)\n",
      "\u001b[1;32m<__array_function__ internals>\u001b[0m in \u001b[0;36mbroadcast_arrays\u001b[1;34m(*args, **kwargs)\u001b[0m\n",
      "\u001b[1;32mc:\\Users\\33789\\anaconda3\\lib\\site-packages\\numpy\\lib\\stride_tricks.py\u001b[0m in \u001b[0;36mbroadcast_arrays\u001b[1;34m(subok, *args)\u001b[0m\n\u001b[0;32m    536\u001b[0m     \u001b[0margs\u001b[0m \u001b[1;33m=\u001b[0m \u001b[1;33m[\u001b[0m\u001b[0mnp\u001b[0m\u001b[1;33m.\u001b[0m\u001b[0marray\u001b[0m\u001b[1;33m(\u001b[0m\u001b[0m_m\u001b[0m\u001b[1;33m,\u001b[0m \u001b[0mcopy\u001b[0m\u001b[1;33m=\u001b[0m\u001b[1;32mFalse\u001b[0m\u001b[1;33m,\u001b[0m \u001b[0msubok\u001b[0m\u001b[1;33m=\u001b[0m\u001b[0msubok\u001b[0m\u001b[1;33m)\u001b[0m \u001b[1;32mfor\u001b[0m \u001b[0m_m\u001b[0m \u001b[1;32min\u001b[0m \u001b[0margs\u001b[0m\u001b[1;33m]\u001b[0m\u001b[1;33m\u001b[0m\u001b[1;33m\u001b[0m\u001b[0m\n\u001b[0;32m    537\u001b[0m \u001b[1;33m\u001b[0m\u001b[0m\n\u001b[1;32m--> 538\u001b[1;33m     \u001b[0mshape\u001b[0m \u001b[1;33m=\u001b[0m \u001b[0m_broadcast_shape\u001b[0m\u001b[1;33m(\u001b[0m\u001b[1;33m*\u001b[0m\u001b[0margs\u001b[0m\u001b[1;33m)\u001b[0m\u001b[1;33m\u001b[0m\u001b[1;33m\u001b[0m\u001b[0m\n\u001b[0m\u001b[0;32m    539\u001b[0m \u001b[1;33m\u001b[0m\u001b[0m\n\u001b[0;32m    540\u001b[0m     \u001b[1;32mif\u001b[0m \u001b[0mall\u001b[0m\u001b[1;33m(\u001b[0m\u001b[0marray\u001b[0m\u001b[1;33m.\u001b[0m\u001b[0mshape\u001b[0m \u001b[1;33m==\u001b[0m \u001b[0mshape\u001b[0m \u001b[1;32mfor\u001b[0m \u001b[0marray\u001b[0m \u001b[1;32min\u001b[0m \u001b[0margs\u001b[0m\u001b[1;33m)\u001b[0m\u001b[1;33m:\u001b[0m\u001b[1;33m\u001b[0m\u001b[1;33m\u001b[0m\u001b[0m\n",
      "\u001b[1;32mc:\\Users\\33789\\anaconda3\\lib\\site-packages\\numpy\\lib\\stride_tricks.py\u001b[0m in \u001b[0;36m_broadcast_shape\u001b[1;34m(*args)\u001b[0m\n\u001b[0;32m    418\u001b[0m     \u001b[1;31m# use the old-iterator because np.nditer does not handle size 0 arrays\u001b[0m\u001b[1;33m\u001b[0m\u001b[1;33m\u001b[0m\u001b[1;33m\u001b[0m\u001b[0m\n\u001b[0;32m    419\u001b[0m     \u001b[1;31m# consistently\u001b[0m\u001b[1;33m\u001b[0m\u001b[1;33m\u001b[0m\u001b[1;33m\u001b[0m\u001b[0m\n\u001b[1;32m--> 420\u001b[1;33m     \u001b[0mb\u001b[0m \u001b[1;33m=\u001b[0m \u001b[0mnp\u001b[0m\u001b[1;33m.\u001b[0m\u001b[0mbroadcast\u001b[0m\u001b[1;33m(\u001b[0m\u001b[1;33m*\u001b[0m\u001b[0margs\u001b[0m\u001b[1;33m[\u001b[0m\u001b[1;33m:\u001b[0m\u001b[1;36m32\u001b[0m\u001b[1;33m]\u001b[0m\u001b[1;33m)\u001b[0m\u001b[1;33m\u001b[0m\u001b[1;33m\u001b[0m\u001b[0m\n\u001b[0m\u001b[0;32m    421\u001b[0m     \u001b[1;31m# unfortunately, it cannot handle 32 or more arguments directly\u001b[0m\u001b[1;33m\u001b[0m\u001b[1;33m\u001b[0m\u001b[1;33m\u001b[0m\u001b[0m\n\u001b[0;32m    422\u001b[0m     \u001b[1;32mfor\u001b[0m \u001b[0mpos\u001b[0m \u001b[1;32min\u001b[0m \u001b[0mrange\u001b[0m\u001b[1;33m(\u001b[0m\u001b[1;36m32\u001b[0m\u001b[1;33m,\u001b[0m \u001b[0mlen\u001b[0m\u001b[1;33m(\u001b[0m\u001b[0margs\u001b[0m\u001b[1;33m)\u001b[0m\u001b[1;33m,\u001b[0m \u001b[1;36m31\u001b[0m\u001b[1;33m)\u001b[0m\u001b[1;33m:\u001b[0m\u001b[1;33m\u001b[0m\u001b[1;33m\u001b[0m\u001b[0m\n",
      "\u001b[1;31mValueError\u001b[0m: shape mismatch: objects cannot be broadcast to a single shape"
     ]
    },
    {
     "data": {
      "image/png": "[encoded data removed]",
      "text/plain": [
       "<Figure size 432x288 with 1 Axes>"
      ]
     },
     "metadata": {},
     "output_type": "display_data"
    }
   ],
   "source": [
    "# cumulative PCA\n",
    "tot = sum(eig_vals**2)\n",
    "var_exp = [(i**2 / tot)*100 for i in sorted(eig_vals, reverse=True)]\n",
    "cum_var_exp = np.cumsum(var_exp)\n",
    "\n",
    "# plotting\n",
    "with plt.style.context('seaborn-whitegrid'):\n",
    "    plt.figure(figsize=(6, 4))\n",
    "\n",
    "    plt.bar(range(4), var_exp, alpha=0.5, align='center',\n",
    "            label='individual explained variance')\n",
    "    plt.step(range(4), cum_var_exp, where='mid',\n",
    "             label='cumulative explained variance')\n",
    "    plt.ylabel('Explained variance ratio')\n",
    "    plt.xlabel('Principal components')\n",
    "    plt.legend(loc='best')\n",
    "    plt.tight_layout()"
   ]
  },
  {
   "cell_type": "code",
   "execution_count": null,
   "id": "7b4021d9",
   "metadata": {},
   "outputs": [],
   "source": [
    "\n",
    "h1D.var()"
   ]
  },
  {
   "cell_type": "code",
   "execution_count": null,
   "id": "fc0358cd",
   "metadata": {},
   "outputs": [],
   "source": [
    "X = pd.DataFrame(scale(h1D), index=h1D.index, columns=h1D.columns)\n",
    "pca_loadings = pd.DataFrame(PCA().fit(X).components_.T, index=h1D.columns, columns =h1D.columns.values )\n",
    "d_plot = pd.DataFrame(PCA().fit_transform(X), index = X.index)\n"
   ]
  },
  {
   "cell_type": "code",
   "execution_count": null,
   "id": "9f442ab5",
   "metadata": {},
   "outputs": [],
   "source": [
    "fig , ax1 = plt.subplots(figsize=(9,7))\n",
    "\n",
    "#ax1.set_xlim(-3.5,3.5)\n",
    "#ax1.set_ylim(-3.5,3.5)\n",
    "\n",
    "# Plot Principal Components 1 and 2\n",
    "for i in d_plot.index:\n",
    "    ax1.annotate(i, (d_plot.PC1.loc[i], -d_plot.PC2.loc[i]), ha='center')\n",
    "\n",
    "# Plot reference lines\n",
    "ax1.hlines(0,-3.5,3.5, linestyles='dotted', colors='grey')\n",
    "ax1.vlines(0,-3.5,3.5, linestyles='dotted', colors='grey')\n",
    "\n",
    "ax1.set_xlabel('First Principal Component')\n",
    "ax1.set_ylabel('Second Principal Component')\n",
    "    \n",
    "# Plot Principal Component loading vectors, using a second y-axis.\n",
    "ax2 = ax1.twinx().twiny() \n",
    "\n",
    "ax2.set_ylim(-1,1)\n",
    "ax2.set_xlim(-1,1)\n",
    "ax2.tick_params(axis='y', colors='orange')\n",
    "ax2.set_xlabel('Principal Component loading vectors', color='orange')\n",
    "\n",
    "# Plot labels for vectors. Variable 'a' is a small offset parameter to separate arrow tip and text.\n",
    "a = 1.07  \n",
    "for i in pca_loadings[['0', '1']].index:\n",
    "    ax2.annotate(i, (pca_loadings.V1.loc[i]*a, -pca_loadings.V2.loc[i]*a), color='orange')\n",
    "\n",
    "# Plot vectors\n",
    "ax2.arrow(0,0,pca_loadings.V1[0], -pca_loadings.V2[0])\n",
    "ax2.arrow(0,0,pca_loadings.V1[1], -pca_loadings.V2[1])\n",
    "ax2.arrow(0,0,pca_loadings.V1[2], -pca_loadings.V2[2])\n",
    "ax2.arrow(0,0,pca_loadings.V1[3], -pca_loadings.V2[3]);"
   ]
  },
  {
   "cell_type": "code",
   "execution_count": null,
   "id": "08185e0f",
   "metadata": {},
   "outputs": [],
   "source": [
    "X_std = StandardScaler().fit_transform(X)\n",
    "X_cnt = center_data(X)\n",
    "\n",
    "# reducing to 2dim space , only choosoing the best 2 eigenvectors\n",
    "# matrix_w = np.hstack((eig_pairs[0][1].reshape(59,1), \n",
    "#                       eig_pairs[1][1].reshape(59,1),\n",
    "#                       eig_pairs[2][1].reshape(59,1),\n",
    "#                       eig_pairs[3][1].reshape(59,1),\n",
    "#                       eig_pairs[4][1].reshape(59,1)))\n",
    "matrix_w = np.hstack((eig_pairs[0][1].reshape(68,1), \n",
    "                      eig_pairs[1][1].reshape(68,1),\n",
    "                      eig_pairs[2][1].reshape(68,1),\n",
    "                      eig_pairs[3][1].reshape(68,1),\n",
    "                      eig_pairs[4][1].reshape(68,1)))\n",
    "\n",
    "\n",
    "Y = X_std.dot(matrix_w)\n",
    "Xprime = Y.dot(matrix_w.transpose())\n",
    "np.square(Xprime-X_std).mean(axis=None)"
   ]
  },
  {
   "cell_type": "code",
   "execution_count": null,
   "id": "5e1786df",
   "metadata": {},
   "outputs": [],
   "source": [
    "# OUTPUT PARAM! \n",
    "# blendE                                 8.227900e+05\n",
    "# blendSTRENGTH                          2.744392e+02\n",
    "# blendStrainbreak                       2.653426e+04\n",
    "# blendImpact                            6.285922e+02\n",
    "# EblendOpEmatrix                        1.796680e+00\n",
    "# STRENGTHblendOpSTRENGTHmatrix          1.899984e-01\n",
    "# StrainbreakblendOpStrainbreakmatrix    1.713696e+02\n",
    "# ImpactblendOpImpactmatrix              1.212540e+01\n",
    "\n",
    "dT = h1D.drop(['blendE','blendSTRENGTH','blendStrainbreak', 'blendImpact','EblendOpEmatrix','STRENGTHblendOpSTRENGTHmatrix', 'StrainbreakblendOpStrainbreakmatrix', 'ImpactblendOpImpactmatrix'], axis=1)\n",
    "#  d.drop(['Class Combo','NAAM', 'SERIE' ], axis=1)\n",
    "yT = h1D[['blendE','blendSTRENGTH','blendStrainbreak', 'blendImpact','EblendOpEmatrix','STRENGTHblendOpSTRENGTHmatrix', 'StrainbreakblendOpStrainbreakmatrix', 'ImpactblendOpImpactmatrix']]"
   ]
  },
  {
   "cell_type": "code",
   "execution_count": null,
   "id": "d8395fa5",
   "metadata": {},
   "outputs": [],
   "source": [
    "DT = pd.DataFrame(scale(dT), index=dT.index, columns=dT.columns)\n",
    "DT = StandardScaler().fit_transform(DT)\n",
    "DT = center_data(DT)\n",
    "\n",
    "cor_mat2 = np.corrcoef(DT.T)\n",
    "eig_vals, eig_vecs = np.linalg.eig(cor_mat2)\n",
    "# Make a list of (eigenvalue, eigenvector) tuples\n",
    "eig_pairs = [(np.abs(eig_vals[i]), eig_vecs[:,i]) for i in range(len(eig_vals))]\n",
    "eig_pairs.sort(key=lambda x: x[0], reverse=True)\n",
    "\n",
    "# reducing to 2dim space , only choosoing the best 4 eigenvectors\n",
    "matrix_w = np.hstack((eig_pairs[0][1].reshape(60,1), \n",
    "                      eig_pairs[1][1].reshape(60,1),\n",
    "                      eig_pairs[2][1].reshape(60,1),\n",
    "                      eig_pairs[3][1].reshape(60,1),\n",
    "                      eig_pairs[4][1].reshape(60,1)))\n",
    "\n",
    "Y = DT.dot(matrix_w)\n",
    "DTprime = Y.dot(matrix_w.transpose())\n",
    "np.square(DTprime-DT).mean(axis=None)"
   ]
  },
  {
   "cell_type": "markdown",
   "id": "7ee5981f",
   "metadata": {},
   "source": [
    "# families"
   ]
  },
  {
   "cell_type": "code",
   "execution_count": null,
   "id": "b3ffaaac",
   "metadata": {},
   "outputs": [],
   "source": [
    "dataF = pd.read_table(\"C:/Users/33789/OneDrive/Desktop/THESIS/data/data_families.csv\", ',')\n"
   ]
  },
  {
   "cell_type": "code",
   "execution_count": null,
   "id": "e7afdd32",
   "metadata": {},
   "outputs": [],
   "source": [
    "dataF.columns.values"
   ]
  },
  {
   "cell_type": "code",
   "execution_count": null,
   "id": "68502f11",
   "metadata": {},
   "outputs": [],
   "source": [
    "POK = data[data['Matrix Class'] == 'POK']\n",
    "NOK = data[data['Matrix Class'] == 'NOK']\n",
    "POL = data[data['Matrix Class'] == 'POL']\n",
    "NOA = data[data['Matrix Class'] == 'NOA']"
   ]
  },
  {
   "cell_type": "code",
   "execution_count": null,
   "id": "fa9670d1",
   "metadata": {},
   "outputs": [],
   "source": [
    "sns.relplot(\n",
    "    data=data, x='WeightImpurity', y='blendSTRENGTH',\n",
    "    col=\"Matrix Class\", hue=\"Impurity Class\", \n",
    "    kind=\"line\"\n",
    ")"
   ]
  },
  {
   "cell_type": "code",
   "execution_count": null,
   "id": "7dfcdea9",
   "metadata": {},
   "outputs": [],
   "source": [
    "sns.relplot(\n",
    "    data=data, x='WeightImpurity', y='blendE',\n",
    "    col=\"Matrix Class\", hue=\"Impurity Class\", \n",
    "    kind=\"line\"\n",
    ")"
   ]
  },
  {
   "cell_type": "code",
   "execution_count": null,
   "id": "451d29ca",
   "metadata": {},
   "outputs": [],
   "source": [
    "sns.relplot(\n",
    "    data=data, x='WeightImpurity', y='blendStrainbreak',\n",
    "    col=\"Matrix Class\", hue=\"Impurity Class\", \n",
    "    kind=\"line\"\n",
    ")\n",
    "\n",
    "#        'blendSTRENGTH', 'blendStrainbreak', 'blendImpact',"
   ]
  },
  {
   "cell_type": "code",
   "execution_count": null,
   "id": "d9883d88",
   "metadata": {},
   "outputs": [],
   "source": [
    "sns.relplot(\n",
    "    data=data, x='WeightImpurity', y='blendImpact',\n",
    "    col=\"Matrix Class\", hue=\"Impurity Class\", \n",
    "    kind=\"line\"\n",
    ")"
   ]
  },
  {
   "cell_type": "markdown",
   "id": "7290d238",
   "metadata": {},
   "source": [
    "# Gaussian Process"
   ]
  },
  {
   "cell_type": "markdown",
   "id": "0a13ebc7",
   "metadata": {},
   "source": [
    "The idea would be to given the majority and minority function of chnage in given property. \n",
    "to min just looking at strength of features;\n",
    "STRENGTH\n",
    "then try the same but not by polymers but families of DR KIM"
   ]
  },
  {
   "cell_type": "code",
   "execution_count": null,
   "id": "174eb696",
   "metadata": {},
   "outputs": [],
   "source": [
    "# A: LDPE B: HDPE STRENGTH\n",
    "# not using one hotenconded data\n",
    "LDPE =d[d['MajorityPolymer']== 'LDPE1']\n",
    "LPDE_HDPE=LDPE[ LDPE['MinorityPolymer']== 'HDPE1']\n",
    "LPDE_HDPET=LPDE_HDPE.iloc[:,2:15]\n",
    "# 16,17 matrix,impurity class; taki,g the order frommatlab code\n",
    "# 21matrix E, 25: I E. 35 E blend= y \n",
    "x = pd.concat([LPDE_HDPET,LPDE_HDPE.iloc[:,21], LPDE_HDPE.iloc[:,25]], axis=1)\n",
    "y = LPDE_HDPE.iloc[:,35]\n",
    "x.head()\n"
   ]
  },
  {
   "cell_type": "code",
   "execution_count": null,
   "id": "e86b4d56",
   "metadata": {},
   "outputs": [],
   "source": [
    "from sklearn.gaussian_process import GaussianProcessRegressor\n",
    "clf = GaussianProcessRegressor()\n",
    "clf.fit(x, y)\n",
    "y_pred = clf.predict(x)"
   ]
  },
  {
   "cell_type": "code",
   "execution_count": null,
   "id": "438f107e",
   "metadata": {},
   "outputs": [],
   "source": [
    "plt.plot(x['WeightImpurity'], y, marker='o', color='blue')\n",
    "plt.plot(x['WeightImpurity'], y_pred, marker= 'x',color = 'red')\n",
    "plt.xlabel(\"ratio impurity\")\n",
    "plt.ylabel(\"Elasticity\")\n",
    "plt.show()"
   ]
  },
  {
   "cell_type": "markdown",
   "id": "81579792",
   "metadata": {},
   "source": [
    "### trying with POL (A) and B: POK \n",
    "\n"
   ]
  },
  {
   "cell_type": "code",
   "execution_count": null,
   "id": "5613c500",
   "metadata": {},
   "outputs": [],
   "source": [
    "\n",
    "POL =h1D[h1D['Matrix Class_POL']== 1]\n",
    "POL_POK=POL[POL['Impurity Class_POK']== 1]\n",
    "POL_POKT=POL_POK.iloc[:,2:15]\n",
    "xF = pd.concat([POL_POKT,POL_POK.iloc[:,21], POL_POK.iloc[:,25]], axis=1)\n",
    "yF = POL_POK.iloc[:,35]\n",
    "sns.histplot( POL_POK['blendE'])\n",
    "sns.histplot(LPDE_HDPE['blendE'])\n",
    "# POL.head()"
   ]
  },
  {
   "cell_type": "code",
   "execution_count": null,
   "id": "28ead641",
   "metadata": {},
   "outputs": [],
   "source": [
    "\n",
    "clf = GaussianProcessRegressor()\n",
    "clf.fit(xF, yF)\n",
    "y_pred = clf.predict(xF)\n",
    "plt.plot(xF['WeightImpurity'], yF, marker='o', color='blue')\n",
    "plt.plot(xF['WeightImpurity'], y_pred, marker= 'x',color = 'red', linewidth=1)\n",
    "plt.xlabel(\"ratio impurity\")\n",
    "plt.ylabel(\"Elasticity\")\n",
    "plt.title('Elasticity of POL vs POK')\n",
    "plt.show()"
   ]
  },
  {
   "cell_type": "code",
   "execution_count": null,
   "id": "5ab1267c",
   "metadata": {},
   "outputs": [],
   "source": [
    "# LDEP is POK, tryin with HDPE1_PET1 that in NOK\n",
    "HDPE =d[d['MajorityPolymer']== 'HDPE1']\n",
    "HPDE_PET=HDPE[ HDPE['MinorityPolymer']== 'PET1']\n",
    "# training features\n",
    "HPDE_PETT=HPDE_PET.iloc[:,2:15]\n",
    "xF = pd.concat([HPDE_PETT,HPDE_PET.iloc[:,21], HPDE_PET.iloc[:,25]], axis=1)\n",
    "yF = HPDE_PET.iloc[:,35]\n"
   ]
  },
  {
   "cell_type": "code",
   "execution_count": null,
   "id": "2b513d0b",
   "metadata": {},
   "outputs": [],
   "source": [
    "clf = GaussianProcessRegressor()\n",
    "clf.fit(x, y)\n",
    "y_pred = clf.predict(x)\n",
    "plt.plot(x['WeightImpurity'], y, marker='o', color='blue')\n",
    "plt.plot(x['WeightImpurity'], y_pred, marker= 'x',color = 'red')\n",
    "plt.xlabel(\"ratio impurity\")\n",
    "plt.ylabel(\"Elasticity\")\n",
    "plt.title('Elasticity of HPDE_PET')\n",
    "plt.show()"
   ]
  },
  {
   "cell_type": "markdown",
   "id": "25269e69",
   "metadata": {},
   "source": [
    "# SVMs\n"
   ]
  },
  {
   "cell_type": "code",
   "execution_count": 6,
   "id": "f5daf537",
   "metadata": {},
   "outputs": [],
   "source": [
    "x_e = h1D.drop(['matrixSTRENGTH', 'matrixStrainbreak',\n",
    "       'matrixImpact','impuritySTRENGTH',\n",
    "       'impurityStrainbreak', 'impurityImpact', 'blendE', 'blendSTRENGTH', 'blendStrainbreak', 'blendImpact'], axis =1)\n",
    "y_e = h1D['blendE']\n",
    "X_train, X_test, y_train, y_test = train_test_split(x_e, y_e, test_size = 0.2, random_state = 0)"
   ]
  },
  {
   "cell_type": "markdown",
   "id": "07b7307d",
   "metadata": {},
   "source": [
    "Such a grouping of data is domain specific. thus IID assumptioon is broken "
   ]
  },
  {
   "cell_type": "code",
   "execution_count": null,
   "id": "c36fa495",
   "metadata": {},
   "outputs": [],
   "source": [
    "# from sklearn.metrics import accuracy_score, confusion_matrix, classification_report\n",
    "\n",
    "# def print_score(clf, X_train, y_train, X_test, y_test, train=True):\n",
    "#     if train:\n",
    "#         pred = clf.predict(X_train)\n",
    "#         clf_report = pd.DataFrame(r2_score(y_true, y_pred))\n",
    "#         print(\"Train Result:\\n================================================\")\n",
    "#         print(f\"Accuracy Score: {accuracy_score(y_train, pred) * 100:.2f}%\")\n",
    "#         print(\"_______________________________________________\")\n",
    "#         print(f\"CLASSIFICATION REPORT:\\n{clf_report}\")\n",
    "#         print(\"_______________________________________________\")\n",
    "#         print(f\"Confusion Matrix: \\n {confusion_matrix(y_train, pred)}\\n\")\n",
    "        \n",
    "#     elif train==False:\n",
    "#         pred = clf.predict(X_test)\n",
    "#         clf_report = pd.DataFrame(classification_report(y_test, pred, output_dict=True))\n",
    "#         print(\"Test Result:\\n================================================\")        \n",
    "#         print(f\"Accuracy Score: {accuracy_score(y_test, pred) * 100:.2f}%\")\n",
    "#         print(\"_______________________________________________\")\n",
    "#         print(f\"CLASSIFICATION REPORT:\\n{clf_report}\")\n",
    "#         print(\"_______________________________________________\")\n",
    "#         print(f\"Confusion Matrix: \\n {confusion_matrix(y_test, pred)}\\n\")"
   ]
  },
  {
   "cell_type": "code",
   "execution_count": null,
   "id": "39fd4742",
   "metadata": {},
   "outputs": [
    {
     "name": "stdout",
     "output_type": "stream",
     "text": [
      "[318  45 159 150 164 145  92 206  90 103 135 106 322  73 320 311 189 216\n",
      "  29 276  20  46 226 266 218  89 229  27 179 271 137 283  37 176  54 199\n",
      " 264 252 223 191 241 310 246 166 126 161  35 237 167 181 258  44 286 129\n",
      " 233 111 210 173  18 263  79  71 175 274 314 156 196  83 250 118 160 306\n",
      " 110 255 152  16  75 109 215 198 139   4  96 204  61  67 154 327 317 217\n",
      " 305  40 228  13 107 240   3 194 125  24  30  77 303 230 208  19 279 281\n",
      " 182 290  80  51   2  11 104 221  86  10 236 312  58  41  14 155  50 256\n",
      " 309 269 321 123 278  62 231 293 130 187 253 225 254  43 114 138 239 260\n",
      " 201 149 112 205 275  98 259  93 248 162  36 178 113   0  94 301  95 324\n",
      " 297 169  69  49  48  85 325 141 207  23 186 227 148 143 180 131 291 326\n",
      " 262 203  84 121 280 300  91  82 267 119  57 257 289  42 105 273 287  38\n",
      "  53 282 128  28 183 163 151 244 202  31  32 127 185 304 288 296 147 285\n",
      " 302 177  99 197 243 115 265  72  25 165 313 174 315  39 193  88  70  87\n",
      " 292 242 277 211   9 195 251 323 192 117  47 172] [122  66 142 245 146  63 268  15 136 144 270  59  26  68 212 249 157 108\n",
      "  60 319 209 232 170 295 316 299 307 219 272 171 188 238 220   7   6  56\n",
      "  55  22 120  64 294  21 134 261  12 222 158 168 102 116  17 140  76 247\n",
      " 100 190 184  65  81 308 153 234  74  52 235 214   1 298   8 213 101 124\n",
      " 284 224 200   5  33  78  34 133 132  97]\n",
      "[122  21  77 266 178 103 230 195 204 191 249  70 206 166 238  37 273 257\n",
      "  79  34  88 211  64 254 272  27 144  10 193 130  80 265 302  12  33 300\n",
      " 246 142  50 180  31 268 147 157 101  78  92 114  66 250  82 293  15   6\n",
      " 194 214 217 173  47 310 244 296  90  98 278 118 165  73 305 285 316 260\n",
      " 275 235 145 258  93 132  57 291  97 115  32 202 277  96 327 123 224  89\n",
      " 283 241 184  46 223 319 149 261 295 107 231 133   0 228  71 192 102  67\n",
      " 108 196  84  72 292 125 311 205 197 181 179 109  26 247  28 161 232 168\n",
      " 121 253 134  69  99 248 186  24  39 128 225 129 287 140 131 171 301 113\n",
      "  18  76 312 318 111 239 188   9 198 307 159  63  43  91 222 104 271 138\n",
      " 175 112 279  68  36  20  65  42 126   3 240 117 148 294 182 137 105   7\n",
      " 119  29 185 153  54  30 100 303 151 237  56  60 209 262 299 264 325 208\n",
      " 326 306 167  38 269 201 106  58 163 124 154  59  94  53 298 158  51 290\n",
      " 274 313 219  74 282   4 139 207 136 256   5 141  61 135  83 227  22 276\n",
      " 284 270 288 281 220 203 320 120  81 314  13  87] [280 189 156 176 169  75 322 110 210 236 187 245 177  48 252 297  86 143\n",
      " 146 255 174 155 233 243  11  44 172 286 190  23  19   2 164 150 263 242\n",
      " 216 200 321  41 183 116 304 213  40  49  55 215 267  52  17 152 218 226\n",
      "  14 309 170 199 160 323 317 212 251 234 221 259 315  62  85 229 289 308\n",
      "   1 162 127  16  45  95  25   8  35 324]\n",
      "[ 35 273  85 176 212 134 279 163 270 209 312 215   2  21 148  82 249 182\n",
      " 159 187 248 174 272 141 166 173 232  69 255 170  17  41 153 183  88 239\n",
      " 119 246  26  63 111 230  87 199 300 177  65 306  16 126  94  29 200 136\n",
      " 283 286  60 296 198 106   4 294 164 240 129 238 124 303   8 107  19 101\n",
      " 245 314 256 228 109 179  81  54  34 216  30  78  11 114 251 155 201 297\n",
      "  98  22   7 110  91  23 189  71 277 132 161 254 261 117 145 237 184 244\n",
      "  56 259  84 112 144  67  61 131  74 307 305  80 322 135 220 290 269 204\n",
      " 243   5 127  83  36 317 147 150 315 268  64  93 275 288 253  32 325  96\n",
      "  95 113  59  37 229 191 143 133 158 154  40  48 316 267 213 278 236  92\n",
      " 302  13  89  18 120 149 252  47  76  62  79  43 193 235 181 116 115   9\n",
      " 157 318 178 320 262   6 266 257  38 151  33 280 271 140 309 194 313 128\n",
      " 118 171 326 242  50 162 219 292 138   0 211 172 195 146 152 284 123 234\n",
      "  39 274  72 156 222 276 210 217  99 289 167 225 104  12  10 105  68  90\n",
      " 100 233 258 265 102 304 180  28  42 208  20 321] [125 323  53  45 311 122   1 221  97 223 231 298 247 137 203 224 197  27\n",
      "  77 218 227 175 295  44 299 202 287  58  14  15 103  66 192  75 186 121\n",
      " 207 214 327 130 205 250  51 185  31 190 264 196 293 308 108  46 310 291\n",
      "  73 285 281 165  86  55 169  52  25 139 301  57 324 282 226 168  70 319\n",
      " 206 241   3 263  24 160 142 188 260  49]\n",
      "[202  47 305 108  65 104 116 255 227 207 247 153 258 142  26 254 260  85\n",
      " 120 137  76  19  66   2   1  13  98 297 246 296  24  58 171 169 113 275\n",
      " 265 291  39 199 282 315 204 182 178 148 294 133  67 184 206 293  14 147\n",
      " 114  30 299 211 224 124  12  50   9 253 128  35 286  80  36 280 189 180\n",
      " 217 277  61  92 109   0  40  75 274 140   7  59 298 111 126 219 234 156\n",
      " 190  56   8 259  86 268  51  27 266  37 118 119  81  32 239 100  90 256\n",
      " 212 249 308 201 301 270 143 154 304 278 233 145 192 310 179 135 319 264\n",
      " 203 158 318 102  29  94 101 326 243  68 138 226  48 155 317 248  99 262\n",
      " 127 170 160 117  34 149 241 168 162  74 324 288 327 134 287 166  20  17\n",
      " 175 194 240 218  41 208  57 261 177  49 193 320 132 210 110  95  77  87\n",
      "  44  91 245 235 183  71 303 269 273 311  28 283 185 314 195 222  21  70\n",
      " 105  10 173 271 290  79 229  64 150 242  83 307 205 172 295  33  16 257\n",
      " 144 237 302 281 322 323 306 312 213 106 131  15  73 216 284 181 129 187\n",
      " 191 103 123  60 272  11 267  78 285 165   3 236] [  6 198 188 121 163  72   5 230  82  93 321 325  43  69 250 196  96  31\n",
      " 186 136 220  25 176  55  46  89  54 174  88 146  63 159 209 223 161 107\n",
      " 251  52 139  97 112 164 214  62 200  22   4 141  84 228 316 313 263 231\n",
      "  38 225 197 215 289 252 122  45 130 244  23 167 221 292 276 125 151  42\n",
      " 152 238 115  18 309 232 279  53 300 157]\n",
      "[ 79 124  23  35 259  50 230  66 297 194 235 157 145 220 321 227  38  39\n",
      "   0 186 253 266  42 231 113 136 175 236 251 115 293 258 323 267  37 216\n",
      " 219 311 173 221 274 249  82  70 134 302  95 128 223 239 285 246 110 276\n",
      " 226  15 185 163 169 138  40 222 161 149  16 215 291 306 254 317  98 195\n",
      "  12 207  31  49 272 168 131 127 148 271  36  91 298 121 146  78  83 288\n",
      " 294  89 109 132  26 177  55   7 150 188 101  93  85 233 214 296 240 165\n",
      " 209 204  46 279  97 171 156 218 257 229 268  14 300 241 295 208  94 159\n",
      "  73  72 269 160 238 265  17  88 122 256 212 154 123 192   4 248 217  51\n",
      " 260 162 206  87  32  52 119 143 287 135 104 193  56 125 120 176 263  59\n",
      " 158 187 307  10 262  86 309 242 183  84 255 228 133 202  28 198  29  81\n",
      " 181 142 313 196 247 170 278 261 137 102 281  22  62  45 273 286  61 250\n",
      " 184 225 147 232  27 130 106 197 111  21 210 325 327 243 203 310   2 280\n",
      " 308  64 211   8 234 112 312 301 275  43  96 178 108  77 100 153 199 129\n",
      "   1  71 320  69  99  48 252 213  68  65 244 284] [237 326 304   6 289 105 172 116  13  53 282 180  20  76 303 107  60 182\n",
      " 139  80  90  18 205  63  74 144 190 191  30 166  25 167 174 224  47 315\n",
      " 314 245 283 141 270 201  33 126 118  24 264 189  58 318 179 322 290  34\n",
      " 140  44 114  75 152 103 151 277 305   3  92   5  57 155  41 324 117 319\n",
      "  19 164  54 200  67 299  11   9 316 292]\n"
     ]
    }
   ],
   "source": [
    "from sklearn.model_selection import ShuffleSplit\n",
    "ss = ShuffleSplit(n_splits=5, test_size=0.25, random_state=0)\n",
    "for train_index, test_index in ss.split(x_e):\n",
    "    print(\"%s %s\" % (train_index, test_index))"
   ]
  },
  {
   "cell_type": "code",
   "execution_count": 8,
   "id": "dc0ee903",
   "metadata": {},
   "outputs": [],
   "source": [
    "from sklearn.model_selection import GridSearchCV\n",
    "from sklearn.svm import SVR\n",
    "from sklearn.pipeline import Pipeline\n",
    "from tqdm import tqdm_notebook as tqdm\n",
    "\n",
    "\n",
    "standardized_data = (h1D - h1D.mean())/ h1D.std()\n",
    "x_e = standardized_data.drop(['matrixSTRENGTH', 'matrixStrainbreak',\n",
    "       'matrixImpact','impuritySTRENGTH',\n",
    "       'impurityStrainbreak', 'impurityImpact', 'blendE', 'blendSTRENGTH', 'blendStrainbreak', 'blendImpact'], axis =1)\n",
    "y_e = h1D['blendE']\n",
    "X_train, X_test, y_train, y_test = train_test_split(x_e, y_e, test_size = 0.2, random_state = 0)\n",
    "\n",
    "\n",
    "\n",
    "model = SVR(kernel='rbf')\n",
    "model.fit(X_train, y_train)\n",
    "# print_score(model, X_train, y_train, X_test, y_test, train=True)\n",
    "# print_score(model, X_train, y_train, X_test, y_test, train=False)\n",
    "\n",
    "pipe_steps= [('SVM', SVR())]\n",
    "\n",
    "#TODO: doo same with gaussian\n",
    "params= {\n",
    "    'SVM__C': [0.01, 0.1, 0.5, 1, 10, 100],\n",
    "    'SVM__kernel':['rbf', 'poly', 'linear'],\n",
    "    'SVM__gamma' :[50 ,10 ,5 , 1, 0.75, 0.5, 0.25, 0.1, 0.01, 0.001]\n",
    "}\n",
    "pipeline= Pipeline(pipe_steps)\n",
    "# param_grid = {'C': [0.01, 0.1, 0.5, 1, 10, 100], \n",
    "#               'gamma': [1, 0.75, 0.5, 0.25, 0.1, 0.01, 0.001], \n",
    "#               'kernel': ['rbf', 'poly', 'linear']} \n",
    "\n",
    "#grid = GridSearchCV(SVR(), param_grid, refit=True, verbose=1, cv=5)\n",
    "#grid.fit(X_train, y_train)\n"
   ]
  },
  {
   "cell_type": "code",
   "execution_count": null,
   "id": "b4d68754",
   "metadata": {},
   "outputs": [
    {
     "name": "stdout",
     "output_type": "stream",
     "text": [
      "entering : -----------------------------------\n",
      "4\n"
     ]
    }
   ],
   "source": [
    "# #4 CV \n",
    "# for cv in range(4,6):\n",
    "#     print('entering : -----------------------------------')\n",
    "#     print(cv)\n",
    "#     grid = GridSearchCV(pipeline, param_grid = params, cv=cv)\n",
    "#     grid.fit(X_train, y_train)\n",
    "#     print('scoreefor %d fold CV = %3.2f' %(cv, grid.score(X_test, y_test)))\n",
    "#     print('best param from TD')\n",
    "#     print(grid.best_params_)\n",
    "    "
   ]
  },
  {
   "cell_type": "code",
   "execution_count": 10,
   "id": "ae554993",
   "metadata": {},
   "outputs": [
    {
     "name": "stdout",
     "output_type": "stream",
     "text": [
      "grid done\n",
      "Fitting 3 folds for each of 36 candidates, totalling 108 fits\n",
      "[CV 1/3; 1/36] START C=0.001, gamma=1, kernel=rbf...............................\n",
      "[CV 1/3; 1/36] END C=0.001, gamma=1, kernel=rbf;, score=(train=-1.980, test=-2.065) total time=   0.0s\n",
      "[CV 2/3; 1/36] START C=0.001, gamma=1, kernel=rbf...............................\n",
      "[CV 2/3; 1/36] END C=0.001, gamma=1, kernel=rbf;, score=(train=-1.975, test=-2.066) total time=   0.0s\n",
      "[CV 3/3; 1/36] START C=0.001, gamma=1, kernel=rbf...............................\n",
      "[CV 3/3; 1/36] END C=0.001, gamma=1, kernel=rbf;, score=(train=-1.886, test=-1.735) total time=   0.0s\n",
      "[CV 1/3; 2/36] START C=0.001, gamma=1, kernel=poly..............................\n",
      "[CV 1/3; 2/36] END C=0.001, gamma=1, kernel=poly;, score=(train=-1.492, test=-1.607) total time=   0.0s\n",
      "[CV 2/3; 2/36] START C=0.001, gamma=1, kernel=poly..............................\n",
      "[CV 2/3; 2/36] END C=0.001, gamma=1, kernel=poly;, score=(train=-1.560, test=-1.718) total time=   0.0s\n",
      "[CV 3/3; 2/36] START C=0.001, gamma=1, kernel=poly..............................\n",
      "[CV 3/3; 2/36] END C=0.001, gamma=1, kernel=poly;, score=(train=-1.384, test=-1.347) total time=   0.0s\n",
      "[CV 1/3; 3/36] START C=0.001, gamma=1, kernel=linear............................\n",
      "[CV 1/3; 3/36] END C=0.001, gamma=1, kernel=linear;, score=(train=-1.979, test=-2.064) total time=   0.0s\n",
      "[CV 2/3; 3/36] START C=0.001, gamma=1, kernel=linear............................\n",
      "[CV 2/3; 3/36] END C=0.001, gamma=1, kernel=linear;, score=(train=-1.974, test=-2.065) total time=   0.0s\n",
      "[CV 3/3; 3/36] START C=0.001, gamma=1, kernel=linear............................\n",
      "[CV 3/3; 3/36] END C=0.001, gamma=1, kernel=linear;, score=(train=-1.884, test=-1.734) total time=   0.0s\n",
      "[CV 1/3; 4/36] START C=0.001, gamma=0.1, kernel=rbf.............................\n",
      "[CV 1/3; 4/36] END C=0.001, gamma=0.1, kernel=rbf;, score=(train=-1.980, test=-2.065) total time=   0.0s\n",
      "[CV 2/3; 4/36] START C=0.001, gamma=0.1, kernel=rbf.............................\n",
      "[CV 2/3; 4/36] END C=0.001, gamma=0.1, kernel=rbf;, score=(train=-1.975, test=-2.066) total time=   0.0s\n",
      "[CV 3/3; 4/36] START C=0.001, gamma=0.1, kernel=rbf.............................\n",
      "[CV 3/3; 4/36] END C=0.001, gamma=0.1, kernel=rbf;, score=(train=-1.886, test=-1.735) total time=   0.0s\n",
      "[CV 1/3; 5/36] START C=0.001, gamma=0.1, kernel=poly............................\n",
      "[CV 1/3; 5/36] END C=0.001, gamma=0.1, kernel=poly;, score=(train=-1.979, test=-2.065) total time=   0.0s\n",
      "[CV 2/3; 5/36] START C=0.001, gamma=0.1, kernel=poly............................\n",
      "[CV 2/3; 5/36] END C=0.001, gamma=0.1, kernel=poly;, score=(train=-1.974, test=-2.065) total time=   0.0s\n",
      "[CV 3/3; 5/36] START C=0.001, gamma=0.1, kernel=poly............................\n",
      "[CV 3/3; 5/36] END C=0.001, gamma=0.1, kernel=poly;, score=(train=-1.885, test=-1.735) total time=   0.0s\n",
      "[CV 1/3; 6/36] START C=0.001, gamma=0.1, kernel=linear..........................\n",
      "[CV 1/3; 6/36] END C=0.001, gamma=0.1, kernel=linear;, score=(train=-1.979, test=-2.064) total time=   0.0s\n",
      "[CV 2/3; 6/36] START C=0.001, gamma=0.1, kernel=linear..........................\n",
      "[CV 2/3; 6/36] END C=0.001, gamma=0.1, kernel=linear;, score=(train=-1.974, test=-2.065) total time=   0.0s\n",
      "[CV 3/3; 6/36] START C=0.001, gamma=0.1, kernel=linear..........................\n",
      "[CV 3/3; 6/36] END C=0.001, gamma=0.1, kernel=linear;, score=(train=-1.884, test=-1.734) total time=   0.0s\n",
      "[CV 1/3; 7/36] START C=0.001, gamma=0.001, kernel=rbf...........................\n",
      "[CV 1/3; 7/36] END C=0.001, gamma=0.001, kernel=rbf;, score=(train=-1.980, test=-2.065) total time=   0.0s\n",
      "[CV 2/3; 7/36] START C=0.001, gamma=0.001, kernel=rbf...........................\n",
      "[CV 2/3; 7/36] END C=0.001, gamma=0.001, kernel=rbf;, score=(train=-1.975, test=-2.066) total time=   0.0s\n",
      "[CV 3/3; 7/36] START C=0.001, gamma=0.001, kernel=rbf...........................\n",
      "[CV 3/3; 7/36] END C=0.001, gamma=0.001, kernel=rbf;, score=(train=-1.886, test=-1.735) total time=   0.0s\n",
      "[CV 1/3; 8/36] START C=0.001, gamma=0.001, kernel=poly..........................\n",
      "[CV 1/3; 8/36] END C=0.001, gamma=0.001, kernel=poly;, score=(train=-1.980, test=-2.065) total time=   0.0s\n",
      "[CV 2/3; 8/36] START C=0.001, gamma=0.001, kernel=poly..........................\n",
      "[CV 2/3; 8/36] END C=0.001, gamma=0.001, kernel=poly;, score=(train=-1.975, test=-2.066) total time=   0.0s\n",
      "[CV 3/3; 8/36] START C=0.001, gamma=0.001, kernel=poly..........................\n",
      "[CV 3/3; 8/36] END C=0.001, gamma=0.001, kernel=poly;, score=(train=-1.886, test=-1.735) total time=   0.0s\n",
      "[CV 1/3; 9/36] START C=0.001, gamma=0.001, kernel=linear........................\n",
      "[CV 1/3; 9/36] END C=0.001, gamma=0.001, kernel=linear;, score=(train=-1.979, test=-2.064) total time=   0.0s\n",
      "[CV 2/3; 9/36] START C=0.001, gamma=0.001, kernel=linear........................\n",
      "[CV 2/3; 9/36] END C=0.001, gamma=0.001, kernel=linear;, score=(train=-1.974, test=-2.065) total time=   0.0s\n",
      "[CV 3/3; 9/36] START C=0.001, gamma=0.001, kernel=linear........................\n",
      "[CV 3/3; 9/36] END C=0.001, gamma=0.001, kernel=linear;, score=(train=-1.884, test=-1.734) total time=   0.0s\n",
      "[CV 1/3; 10/36] START C=0.01, gamma=1, kernel=rbf...............................\n",
      "[CV 1/3; 10/36] END C=0.01, gamma=1, kernel=rbf;, score=(train=-1.980, test=-2.065) total time=   0.0s\n",
      "[CV 2/3; 10/36] START C=0.01, gamma=1, kernel=rbf...............................\n",
      "[CV 2/3; 10/36] END C=0.01, gamma=1, kernel=rbf;, score=(train=-1.975, test=-2.066) total time=   0.0s\n",
      "[CV 3/3; 10/36] START C=0.01, gamma=1, kernel=rbf...............................\n",
      "[CV 3/3; 10/36] END C=0.01, gamma=1, kernel=rbf;, score=(train=-1.886, test=-1.735) total time=   0.0s\n",
      "[CV 1/3; 11/36] START C=0.01, gamma=1, kernel=poly..............................\n",
      "[CV 1/3; 11/36] END C=0.01, gamma=1, kernel=poly;, score=(train=-0.104, test=-0.285) total time=   0.0s\n",
      "[CV 2/3; 11/36] START C=0.01, gamma=1, kernel=poly..............................\n",
      "[CV 2/3; 11/36] END C=0.01, gamma=1, kernel=poly;, score=(train=-0.096, test=-0.212) total time=   0.0s\n",
      "[CV 3/3; 11/36] START C=0.01, gamma=1, kernel=poly..............................\n",
      "[CV 3/3; 11/36] END C=0.01, gamma=1, kernel=poly;, score=(train=-0.107, test=-0.258) total time=   0.0s\n",
      "[CV 1/3; 12/36] START C=0.01, gamma=1, kernel=linear............................\n",
      "[CV 1/3; 12/36] END C=0.01, gamma=1, kernel=linear;, score=(train=-1.966, test=-2.051) total time=   0.0s\n",
      "[CV 2/3; 12/36] START C=0.01, gamma=1, kernel=linear............................\n",
      "[CV 2/3; 12/36] END C=0.01, gamma=1, kernel=linear;, score=(train=-1.962, test=-2.052) total time=   0.0s\n",
      "[CV 3/3; 12/36] START C=0.01, gamma=1, kernel=linear............................\n",
      "[CV 3/3; 12/36] END C=0.01, gamma=1, kernel=linear;, score=(train=-1.867, test=-1.719) total time=   0.0s\n",
      "[CV 1/3; 13/36] START C=0.01, gamma=0.1, kernel=rbf.............................\n",
      "[CV 1/3; 13/36] END C=0.01, gamma=0.1, kernel=rbf;, score=(train=-1.980, test=-2.065) total time=   0.0s\n",
      "[CV 2/3; 13/36] START C=0.01, gamma=0.1, kernel=rbf.............................\n",
      "[CV 2/3; 13/36] END C=0.01, gamma=0.1, kernel=rbf;, score=(train=-1.975, test=-2.066) total time=   0.0s\n",
      "[CV 3/3; 13/36] START C=0.01, gamma=0.1, kernel=rbf.............................\n",
      "[CV 3/3; 13/36] END C=0.01, gamma=0.1, kernel=rbf;, score=(train=-1.886, test=-1.735) total time=   0.0s\n",
      "[CV 1/3; 14/36] START C=0.01, gamma=0.1, kernel=poly............................\n",
      "[CV 1/3; 14/36] END C=0.01, gamma=0.1, kernel=poly;, score=(train=-1.974, test=-2.060) total time=   0.0s\n",
      "[CV 2/3; 14/36] START C=0.01, gamma=0.1, kernel=poly............................\n",
      "[CV 2/3; 14/36] END C=0.01, gamma=0.1, kernel=poly;, score=(train=-1.968, test=-2.061) total time=   0.0s\n",
      "[CV 3/3; 14/36] START C=0.01, gamma=0.1, kernel=poly............................\n",
      "[CV 3/3; 14/36] END C=0.01, gamma=0.1, kernel=poly;, score=(train=-1.880, test=-1.730) total time=   0.0s\n",
      "[CV 1/3; 15/36] START C=0.01, gamma=0.1, kernel=linear..........................\n",
      "[CV 1/3; 15/36] END C=0.01, gamma=0.1, kernel=linear;, score=(train=-1.966, test=-2.051) total time=   0.0s\n",
      "[CV 2/3; 15/36] START C=0.01, gamma=0.1, kernel=linear..........................\n",
      "[CV 2/3; 15/36] END C=0.01, gamma=0.1, kernel=linear;, score=(train=-1.962, test=-2.052) total time=   0.0s\n",
      "[CV 3/3; 15/36] START C=0.01, gamma=0.1, kernel=linear..........................\n",
      "[CV 3/3; 15/36] END C=0.01, gamma=0.1, kernel=linear;, score=(train=-1.867, test=-1.719) total time=   0.0s\n",
      "[CV 1/3; 16/36] START C=0.01, gamma=0.001, kernel=rbf...........................\n",
      "[CV 1/3; 16/36] END C=0.01, gamma=0.001, kernel=rbf;, score=(train=-1.980, test=-2.065) total time=   0.0s\n",
      "[CV 2/3; 16/36] START C=0.01, gamma=0.001, kernel=rbf...........................\n",
      "[CV 2/3; 16/36] END C=0.01, gamma=0.001, kernel=rbf;, score=(train=-1.975, test=-2.066) total time=   0.0s\n",
      "[CV 3/3; 16/36] START C=0.01, gamma=0.001, kernel=rbf...........................\n",
      "[CV 3/3; 16/36] END C=0.01, gamma=0.001, kernel=rbf;, score=(train=-1.886, test=-1.735) total time=   0.0s\n",
      "[CV 1/3; 17/36] START C=0.01, gamma=0.001, kernel=poly..........................\n",
      "[CV 1/3; 17/36] END C=0.01, gamma=0.001, kernel=poly;, score=(train=-1.980, test=-2.065) total time=   0.0s\n",
      "[CV 2/3; 17/36] START C=0.01, gamma=0.001, kernel=poly..........................\n",
      "[CV 2/3; 17/36] END C=0.01, gamma=0.001, kernel=poly;, score=(train=-1.975, test=-2.066) total time=   0.0s\n",
      "[CV 3/3; 17/36] START C=0.01, gamma=0.001, kernel=poly..........................\n",
      "[CV 3/3; 17/36] END C=0.01, gamma=0.001, kernel=poly;, score=(train=-1.886, test=-1.735) total time=   0.0s\n",
      "[CV 1/3; 18/36] START C=0.01, gamma=0.001, kernel=linear........................\n",
      "[CV 1/3; 18/36] END C=0.01, gamma=0.001, kernel=linear;, score=(train=-1.966, test=-2.051) total time=   0.0s\n",
      "[CV 2/3; 18/36] START C=0.01, gamma=0.001, kernel=linear........................\n",
      "[CV 2/3; 18/36] END C=0.01, gamma=0.001, kernel=linear;, score=(train=-1.962, test=-2.052) total time=   0.0s\n",
      "[CV 3/3; 18/36] START C=0.01, gamma=0.001, kernel=linear........................\n",
      "[CV 3/3; 18/36] END C=0.01, gamma=0.001, kernel=linear;, score=(train=-1.867, test=-1.719) total time=   0.0s\n",
      "[CV 1/3; 19/36] START C=1, gamma=1, kernel=rbf..................................\n",
      "[CV 1/3; 19/36] END C=1, gamma=1, kernel=rbf;, score=(train=-1.976, test=-2.063) total time=   0.0s\n",
      "[CV 2/3; 19/36] START C=1, gamma=1, kernel=rbf..................................\n",
      "[CV 2/3; 19/36] END C=1, gamma=1, kernel=rbf;, score=(train=-1.972, test=-2.064) total time=   0.0s\n",
      "[CV 3/3; 19/36] START C=1, gamma=1, kernel=rbf..................................\n",
      "[CV 3/3; 19/36] END C=1, gamma=1, kernel=rbf;, score=(train=-1.884, test=-1.735) total time=   0.0s\n",
      "[CV 1/3; 20/36] START C=1, gamma=1, kernel=poly.................................\n",
      "[CV 1/3; 20/36] END C=1, gamma=1, kernel=poly;, score=(train=-0.009, test=-0.126) total time=   0.1s\n",
      "[CV 2/3; 20/36] START C=1, gamma=1, kernel=poly.................................\n",
      "[CV 2/3; 20/36] END C=1, gamma=1, kernel=poly;, score=(train=-0.013, test=-0.153) total time=   0.0s\n",
      "[CV 3/3; 20/36] START C=1, gamma=1, kernel=poly.................................\n",
      "[CV 3/3; 20/36] END C=1, gamma=1, kernel=poly;, score=(train=-0.011, test=-0.120) total time=   0.0s\n",
      "[CV 1/3; 21/36] START C=1, gamma=1, kernel=linear...............................\n",
      "[CV 1/3; 21/36] END C=1, gamma=1, kernel=linear;, score=(train=-0.944, test=-1.065) total time=   0.0s\n",
      "[CV 2/3; 21/36] START C=1, gamma=1, kernel=linear...............................\n",
      "[CV 2/3; 21/36] END C=1, gamma=1, kernel=linear;, score=(train=-1.054, test=-1.091) total time=   0.0s\n",
      "[CV 3/3; 21/36] START C=1, gamma=1, kernel=linear...............................\n",
      "[CV 3/3; 21/36] END C=1, gamma=1, kernel=linear;, score=(train=-0.945, test=-0.862) total time=   0.0s\n",
      "[CV 1/3; 22/36] START C=1, gamma=0.1, kernel=rbf................................\n",
      "[CV 1/3; 22/36] END C=1, gamma=0.1, kernel=rbf;, score=(train=-1.971, test=-2.058) total time=   0.0s\n",
      "[CV 2/3; 22/36] START C=1, gamma=0.1, kernel=rbf................................\n",
      "[CV 2/3; 22/36] END C=1, gamma=0.1, kernel=rbf;, score=(train=-1.967, test=-2.059) total time=   0.0s\n",
      "[CV 3/3; 22/36] START C=1, gamma=0.1, kernel=rbf................................\n",
      "[CV 3/3; 22/36] END C=1, gamma=0.1, kernel=rbf;, score=(train=-1.881, test=-1.732) total time=   0.0s\n",
      "[CV 1/3; 23/36] START C=1, gamma=0.1, kernel=poly...............................\n",
      "[CV 1/3; 23/36] END C=1, gamma=0.1, kernel=poly;, score=(train=-1.492, test=-1.607) total time=   0.0s\n",
      "[CV 2/3; 23/36] START C=1, gamma=0.1, kernel=poly...............................\n",
      "[CV 2/3; 23/36] END C=1, gamma=0.1, kernel=poly;, score=(train=-1.560, test=-1.718) total time=   0.0s\n",
      "[CV 3/3; 23/36] START C=1, gamma=0.1, kernel=poly...............................\n",
      "[CV 3/3; 23/36] END C=1, gamma=0.1, kernel=poly;, score=(train=-1.384, test=-1.347) total time=   0.0s\n",
      "[CV 1/3; 24/36] START C=1, gamma=0.1, kernel=linear.............................\n",
      "[CV 1/3; 24/36] END C=1, gamma=0.1, kernel=linear;, score=(train=-0.944, test=-1.065) total time=   0.0s\n",
      "[CV 2/3; 24/36] START C=1, gamma=0.1, kernel=linear.............................\n",
      "[CV 2/3; 24/36] END C=1, gamma=0.1, kernel=linear;, score=(train=-1.054, test=-1.091) total time=   0.0s\n",
      "[CV 3/3; 24/36] START C=1, gamma=0.1, kernel=linear.............................\n",
      "[CV 3/3; 24/36] END C=1, gamma=0.1, kernel=linear;, score=(train=-0.945, test=-0.862) total time=   0.0s\n",
      "[CV 1/3; 25/36] START C=1, gamma=0.001, kernel=rbf..............................\n",
      "[CV 1/3; 25/36] END C=1, gamma=0.001, kernel=rbf;, score=(train=-1.977, test=-2.063) total time=   0.0s\n",
      "[CV 2/3; 25/36] START C=1, gamma=0.001, kernel=rbf..............................\n",
      "[CV 2/3; 25/36] END C=1, gamma=0.001, kernel=rbf;, score=(train=-1.973, test=-2.063) total time=   0.0s\n",
      "[CV 3/3; 25/36] START C=1, gamma=0.001, kernel=rbf..............................\n",
      "[CV 3/3; 25/36] END C=1, gamma=0.001, kernel=rbf;, score=(train=-1.883, test=-1.733) total time=   0.0s\n",
      "[CV 1/3; 26/36] START C=1, gamma=0.001, kernel=poly.............................\n",
      "[CV 1/3; 26/36] END C=1, gamma=0.001, kernel=poly;, score=(train=-1.980, test=-2.065) total time=   0.0s\n",
      "[CV 2/3; 26/36] START C=1, gamma=0.001, kernel=poly.............................\n",
      "[CV 2/3; 26/36] END C=1, gamma=0.001, kernel=poly;, score=(train=-1.975, test=-2.066) total time=   0.0s\n",
      "[CV 3/3; 26/36] START C=1, gamma=0.001, kernel=poly.............................\n",
      "[CV 3/3; 26/36] END C=1, gamma=0.001, kernel=poly;, score=(train=-1.886, test=-1.735) total time=   0.0s\n",
      "[CV 1/3; 27/36] START C=1, gamma=0.001, kernel=linear...........................\n",
      "[CV 1/3; 27/36] END C=1, gamma=0.001, kernel=linear;, score=(train=-0.944, test=-1.065) total time=   0.0s\n",
      "[CV 2/3; 27/36] START C=1, gamma=0.001, kernel=linear...........................\n",
      "[CV 2/3; 27/36] END C=1, gamma=0.001, kernel=linear;, score=(train=-1.054, test=-1.091) total time=   0.0s\n",
      "[CV 3/3; 27/36] START C=1, gamma=0.001, kernel=linear...........................\n",
      "[CV 3/3; 27/36] END C=1, gamma=0.001, kernel=linear;, score=(train=-0.945, test=-0.862) total time=   0.0s\n",
      "[CV 1/3; 28/36] START C=10, gamma=1, kernel=rbf.................................\n",
      "[CV 1/3; 28/36] END C=10, gamma=1, kernel=rbf;, score=(train=-1.940, test=-2.040) total time=   0.0s\n",
      "[CV 2/3; 28/36] START C=10, gamma=1, kernel=rbf.................................\n",
      "[CV 2/3; 28/36] END C=10, gamma=1, kernel=rbf;, score=(train=-1.942, test=-2.044) total time=   0.0s\n",
      "[CV 3/3; 28/36] START C=10, gamma=1, kernel=rbf.................................\n",
      "[CV 3/3; 28/36] END C=10, gamma=1, kernel=rbf;, score=(train=-1.859, test=-1.727) total time=   0.0s\n",
      "[CV 1/3; 29/36] START C=10, gamma=1, kernel=poly................................\n",
      "[CV 1/3; 29/36] END C=10, gamma=1, kernel=poly;, score=(train=-0.010, test=-0.178) total time=   1.5s\n",
      "[CV 2/3; 29/36] START C=10, gamma=1, kernel=poly................................\n",
      "[CV 2/3; 29/36] END C=10, gamma=1, kernel=poly;, score=(train=-0.017, test=-0.227) total time=   0.4s\n",
      "[CV 3/3; 29/36] START C=10, gamma=1, kernel=poly................................\n",
      "[CV 3/3; 29/36] END C=10, gamma=1, kernel=poly;, score=(train=-0.009, test=-0.274) total time=   0.4s\n",
      "[CV 1/3; 30/36] START C=10, gamma=1, kernel=linear..............................\n",
      "[CV 1/3; 30/36] END C=10, gamma=1, kernel=linear;, score=(train=-0.245, test=-0.325) total time=   0.0s\n",
      "[CV 2/3; 30/36] START C=10, gamma=1, kernel=linear..............................\n",
      "[CV 2/3; 30/36] END C=10, gamma=1, kernel=linear;, score=(train=-0.235, test=-0.282) total time=   0.0s\n",
      "[CV 3/3; 30/36] START C=10, gamma=1, kernel=linear..............................\n",
      "[CV 3/3; 30/36] END C=10, gamma=1, kernel=linear;, score=(train=-0.264, test=-0.264) total time=   0.0s\n",
      "[CV 1/3; 31/36] START C=10, gamma=0.1, kernel=rbf...............................\n",
      "[CV 1/3; 31/36] END C=10, gamma=0.1, kernel=rbf;, score=(train=-1.894, test=-1.990) total time=   0.0s\n",
      "[CV 2/3; 31/36] START C=10, gamma=0.1, kernel=rbf...............................\n",
      "[CV 2/3; 31/36] END C=10, gamma=0.1, kernel=rbf;, score=(train=-1.899, test=-1.997) total time=   0.0s\n",
      "[CV 3/3; 31/36] START C=10, gamma=0.1, kernel=rbf...............................\n",
      "[CV 3/3; 31/36] END C=10, gamma=0.1, kernel=rbf;, score=(train=-1.795, test=-1.670) total time=   0.0s\n",
      "[CV 1/3; 32/36] START C=10, gamma=0.1, kernel=poly..............................\n",
      "[CV 1/3; 32/36] END C=10, gamma=0.1, kernel=poly;, score=(train=-0.104, test=-0.285) total time=   0.0s\n",
      "[CV 2/3; 32/36] START C=10, gamma=0.1, kernel=poly..............................\n",
      "[CV 2/3; 32/36] END C=10, gamma=0.1, kernel=poly;, score=(train=-0.096, test=-0.212) total time=   0.0s\n",
      "[CV 3/3; 32/36] START C=10, gamma=0.1, kernel=poly..............................\n",
      "[CV 3/3; 32/36] END C=10, gamma=0.1, kernel=poly;, score=(train=-0.107, test=-0.258) total time=   0.0s\n",
      "[CV 1/3; 33/36] START C=10, gamma=0.1, kernel=linear............................\n",
      "[CV 1/3; 33/36] END C=10, gamma=0.1, kernel=linear;, score=(train=-0.245, test=-0.325) total time=   0.0s\n",
      "[CV 2/3; 33/36] START C=10, gamma=0.1, kernel=linear............................\n",
      "[CV 2/3; 33/36] END C=10, gamma=0.1, kernel=linear;, score=(train=-0.235, test=-0.282) total time=   0.0s\n",
      "[CV 3/3; 33/36] START C=10, gamma=0.1, kernel=linear............................\n",
      "[CV 3/3; 33/36] END C=10, gamma=0.1, kernel=linear;, score=(train=-0.264, test=-0.264) total time=   0.0s\n",
      "[CV 1/3; 34/36] START C=10, gamma=0.001, kernel=rbf.............................\n",
      "[CV 1/3; 34/36] END C=10, gamma=0.001, kernel=rbf;, score=(train=-1.953, test=-2.038) total time=   0.0s\n",
      "[CV 2/3; 34/36] START C=10, gamma=0.001, kernel=rbf.............................\n",
      "[CV 2/3; 34/36] END C=10, gamma=0.001, kernel=rbf;, score=(train=-1.951, test=-2.040) total time=   0.0s\n",
      "[CV 3/3; 34/36] START C=10, gamma=0.001, kernel=rbf.............................\n",
      "[CV 3/3; 34/36] END C=10, gamma=0.001, kernel=rbf;, score=(train=-1.846, test=-1.700) total time=   0.0s\n",
      "[CV 1/3; 35/36] START C=10, gamma=0.001, kernel=poly............................\n",
      "[CV 1/3; 35/36] END C=10, gamma=0.001, kernel=poly;, score=(train=-1.980, test=-2.065) total time=   0.0s\n",
      "[CV 2/3; 35/36] START C=10, gamma=0.001, kernel=poly............................\n",
      "[CV 2/3; 35/36] END C=10, gamma=0.001, kernel=poly;, score=(train=-1.975, test=-2.066) total time=   0.0s\n",
      "[CV 3/3; 35/36] START C=10, gamma=0.001, kernel=poly............................\n",
      "[CV 3/3; 35/36] END C=10, gamma=0.001, kernel=poly;, score=(train=-1.886, test=-1.735) total time=   0.0s\n",
      "[CV 1/3; 36/36] START C=10, gamma=0.001, kernel=linear..........................\n",
      "[CV 1/3; 36/36] END C=10, gamma=0.001, kernel=linear;, score=(train=-0.245, test=-0.325) total time=   0.0s\n",
      "[CV 2/3; 36/36] START C=10, gamma=0.001, kernel=linear..........................\n",
      "[CV 2/3; 36/36] END C=10, gamma=0.001, kernel=linear;, score=(train=-0.235, test=-0.282) total time=   0.0s\n",
      "[CV 3/3; 36/36] START C=10, gamma=0.001, kernel=linear..........................\n",
      "[CV 3/3; 36/36] END C=10, gamma=0.001, kernel=linear;, score=(train=-0.264, test=-0.264) total time=   0.0s\n",
      "fitting done\n"
     ]
    },
    {
     "ename": "KeyError",
     "evalue": "'C'",
     "output_type": "error",
     "traceback": [
      "\u001b[1;31m---------------------------------------------------------------------------\u001b[0m",
      "\u001b[1;31mKeyError\u001b[0m                                  Traceback (most recent call last)",
      "\u001b[1;32m~\\AppData\\Local\\Temp/ipykernel_25464/3169614236.py\u001b[0m in \u001b[0;36m<module>\u001b[1;34m\u001b[0m\n\u001b[0;32m     24\u001b[0m \u001b[0mprint\u001b[0m\u001b[1;33m(\u001b[0m\u001b[1;34m'fitting done'\u001b[0m\u001b[1;33m)\u001b[0m\u001b[1;33m\u001b[0m\u001b[1;33m\u001b[0m\u001b[0m\n\u001b[0;32m     25\u001b[0m \u001b[1;33m\u001b[0m\u001b[0m\n\u001b[1;32m---> 26\u001b[1;33m \u001b[0mn_components\u001b[0m \u001b[1;33m=\u001b[0m \u001b[0mgrid\u001b[0m\u001b[1;33m.\u001b[0m\u001b[0mcv_results_\u001b[0m\u001b[1;33m[\u001b[0m\u001b[1;34m\"C\"\u001b[0m\u001b[1;33m]\u001b[0m\u001b[1;33m\u001b[0m\u001b[1;33m\u001b[0m\u001b[0m\n\u001b[0m\u001b[0;32m     27\u001b[0m \u001b[0mtest_scores\u001b[0m \u001b[1;33m=\u001b[0m \u001b[0mgrid\u001b[0m\u001b[1;33m.\u001b[0m\u001b[0mcv_results_\u001b[0m\u001b[1;33m[\u001b[0m\u001b[1;34m\"kernel\"\u001b[0m\u001b[1;33m]\u001b[0m\u001b[1;33m\u001b[0m\u001b[1;33m\u001b[0m\u001b[0m\n",
      "\u001b[1;31mKeyError\u001b[0m: 'C'"
     ]
    }
   ],
   "source": [
    "\n",
    "from sklearn.model_selection import GridSearchCV\n",
    "from sklearn.svm import SVR\n",
    "from sklearn.pipeline import Pipeline\n",
    "\n",
    "\n",
    "\n",
    "# param_grid = [\n",
    "#   {'C': [0.001, 0.01, 0.1, 1, 10, 100, 1000], 'kernel': ['linear']},\n",
    "#   {'C': [0.001, 0.01, 0.1, 1, 10, 100, 1000], 'gamma': [1,0.001, 0.0001], 'kernel': ['rbf']},\n",
    "#   {'C': [0.001, 0.01, 0.1, 1, 10, 100, 1000], 'kernel': ['poly'],'degree':[0, 2, 4, 6] },\n",
    "#  ]\n",
    "param_grid = [{\n",
    "            'C': [0.001, 0.01, 1, 10], \n",
    "            #   'gamma': [1, 0.75, 0.5, 0.25, 0.1, 0.01, 0.001], \n",
    "            'gamma': [1,  0.1, 0.001], \n",
    "              'kernel': ['rbf', 'poly', 'linear']\n",
    "              } ]\n",
    "\n",
    "\n",
    "svm = SVR()\n",
    "grid = GridSearchCV(svm, param_grid, cv = 3, scoring = 'neg_mean_absolute_percentage_error', return_train_score = True, verbose = 10 )\n",
    "print('grid done')\n",
    "grid.fit(X_train, y_train)\n",
    "print('fitting done')\n",
    "\n",
    "# n_components = grid.cv_results_[\"C\"]\n",
    "# test_scores = n_components n_components n_components n_components n_components n_components \"kernel\"]\n"
   ]
  },
  {
   "cell_type": "code",
   "execution_count": 48,
   "id": "3445341a",
   "metadata": {},
   "outputs": [
    {
     "data": {
      "text/plain": [
       "['accuracy',\n",
       " 'adjusted_mutual_info_score',\n",
       " 'adjusted_rand_score',\n",
       " 'average_precision',\n",
       " 'balanced_accuracy',\n",
       " 'completeness_score',\n",
       " 'explained_variance',\n",
       " 'f1',\n",
       " 'f1_macro',\n",
       " 'f1_micro',\n",
       " 'f1_samples',\n",
       " 'f1_weighted',\n",
       " 'fowlkes_mallows_score',\n",
       " 'homogeneity_score',\n",
       " 'jaccard',\n",
       " 'jaccard_macro',\n",
       " 'jaccard_micro',\n",
       " 'jaccard_samples',\n",
       " 'jaccard_weighted',\n",
       " 'max_error',\n",
       " 'mutual_info_score',\n",
       " 'neg_brier_score',\n",
       " 'neg_log_loss',\n",
       " 'neg_mean_absolute_error',\n",
       " 'neg_mean_absolute_percentage_error',\n",
       " 'neg_mean_gamma_deviance',\n",
       " 'neg_mean_poisson_deviance',\n",
       " 'neg_mean_squared_error',\n",
       " 'neg_mean_squared_log_error',\n",
       " 'neg_median_absolute_error',\n",
       " 'neg_root_mean_squared_error',\n",
       " 'normalized_mutual_info_score',\n",
       " 'precision',\n",
       " 'precision_macro',\n",
       " 'precision_micro',\n",
       " 'precision_samples',\n",
       " 'precision_weighted',\n",
       " 'r2',\n",
       " 'rand_score',\n",
       " 'recall',\n",
       " 'recall_macro',\n",
       " 'recall_micro',\n",
       " 'recall_samples',\n",
       " 'recall_weighted',\n",
       " 'roc_auc',\n",
       " 'roc_auc_ovo',\n",
       " 'roc_auc_ovo_weighted',\n",
       " 'roc_auc_ovr',\n",
       " 'roc_auc_ovr_weighted',\n",
       " 'top_k_accuracy',\n",
       " 'v_measure_score']"
      ]
     },
     "execution_count": 48,
     "metadata": {},
     "output_type": "execute_result"
    }
   ],
   "source": [
    "from sklearn import metrics\n",
    "sorted(metrics.SCORERS.keys())"
   ]
  },
  {
   "cell_type": "code",
   "execution_count": 11,
   "id": "6283fbe5",
   "metadata": {},
   "outputs": [
    {
     "ename": "NameError",
     "evalue": "name 'n_components' is not defined",
     "output_type": "error",
     "traceback": [
      "\u001b[1;31m---------------------------------------------------------------------------\u001b[0m",
      "\u001b[1;31mNameError\u001b[0m                                 Traceback (most recent call last)",
      "\u001b[1;32m~\\AppData\\Local\\Temp/ipykernel_25464/905897001.py\u001b[0m in \u001b[0;36m<module>\u001b[1;34m\u001b[0m\n\u001b[1;32m----> 1\u001b[1;33m \u001b[0mn_components\u001b[0m\u001b[1;33m\u001b[0m\u001b[1;33m\u001b[0m\u001b[0m\n\u001b[0m",
      "\u001b[1;31mNameError\u001b[0m: name 'n_components' is not defined"
     ]
    }
   ],
   "source": [
    "n_components "
   ]
  },
  {
   "cell_type": "code",
   "execution_count": 31,
   "id": "06ec3e92",
   "metadata": {},
   "outputs": [
    {
     "ename": "NameError",
     "evalue": "name 'xF' is not defined",
     "output_type": "error",
     "traceback": [
      "\u001b[1;31m---------------------------------------------------------------------------\u001b[0m",
      "\u001b[1;31mNameError\u001b[0m                                 Traceback (most recent call last)",
      "\u001b[1;32m~\\AppData\\Local\\Temp/ipykernel_39204/1983076143.py\u001b[0m in \u001b[0;36m<module>\u001b[1;34m\u001b[0m\n\u001b[0;32m      1\u001b[0m \u001b[0mrbf_svr\u001b[0m \u001b[1;33m=\u001b[0m \u001b[0msvm\u001b[0m\u001b[1;33m.\u001b[0m\u001b[0mSVR\u001b[0m\u001b[1;33m(\u001b[0m\u001b[0mkernel\u001b[0m\u001b[1;33m=\u001b[0m\u001b[1;34m'rbf'\u001b[0m\u001b[1;33m)\u001b[0m\u001b[1;33m\u001b[0m\u001b[1;33m\u001b[0m\u001b[0m\n\u001b[0;32m      2\u001b[0m \u001b[0mrbf_svr\u001b[0m\u001b[1;33m.\u001b[0m\u001b[0mfit\u001b[0m\u001b[1;33m(\u001b[0m\u001b[0mx_e\u001b[0m\u001b[1;33m,\u001b[0m \u001b[0my_e\u001b[0m\u001b[1;33m)\u001b[0m\u001b[1;33m\u001b[0m\u001b[1;33m\u001b[0m\u001b[0m\n\u001b[1;32m----> 3\u001b[1;33m \u001b[0my_predF\u001b[0m \u001b[1;33m=\u001b[0m \u001b[0mrbf_svr\u001b[0m\u001b[1;33m.\u001b[0m\u001b[0mpredict\u001b[0m\u001b[1;33m(\u001b[0m\u001b[0mxF\u001b[0m\u001b[1;33m)\u001b[0m\u001b[1;33m\u001b[0m\u001b[1;33m\u001b[0m\u001b[0m\n\u001b[0m\u001b[0;32m      4\u001b[0m \u001b[0mplt\u001b[0m\u001b[1;33m.\u001b[0m\u001b[0mplot\u001b[0m\u001b[1;33m(\u001b[0m\u001b[0mx\u001b[0m\u001b[1;33m[\u001b[0m\u001b[1;34m'WeightImpurity'\u001b[0m\u001b[1;33m]\u001b[0m\u001b[1;33m,\u001b[0m \u001b[0myF\u001b[0m\u001b[1;33m,\u001b[0m \u001b[0mmarker\u001b[0m\u001b[1;33m=\u001b[0m\u001b[1;34m'o'\u001b[0m\u001b[1;33m,\u001b[0m \u001b[0mcolor\u001b[0m\u001b[1;33m=\u001b[0m\u001b[1;34m'blue'\u001b[0m\u001b[1;33m)\u001b[0m\u001b[1;33m\u001b[0m\u001b[1;33m\u001b[0m\u001b[0m\n\u001b[0;32m      5\u001b[0m \u001b[0mplt\u001b[0m\u001b[1;33m.\u001b[0m\u001b[0mplot\u001b[0m\u001b[1;33m(\u001b[0m\u001b[0mx\u001b[0m\u001b[1;33m[\u001b[0m\u001b[1;34m'WeightImpurity'\u001b[0m\u001b[1;33m]\u001b[0m\u001b[1;33m,\u001b[0m \u001b[0my_predF\u001b[0m\u001b[1;33m,\u001b[0m \u001b[0mmarker\u001b[0m\u001b[1;33m=\u001b[0m \u001b[1;34m'x'\u001b[0m\u001b[1;33m,\u001b[0m\u001b[0mcolor\u001b[0m \u001b[1;33m=\u001b[0m \u001b[1;34m'red'\u001b[0m\u001b[1;33m)\u001b[0m\u001b[1;33m\u001b[0m\u001b[1;33m\u001b[0m\u001b[0m\n",
      "\u001b[1;31mNameError\u001b[0m: name 'xF' is not defined"
     ]
    }
   ],
   "source": [
    "\n",
    "rbf_svr = svm.SVR(kernel='rbf')\n",
    "rbf_svr.fit(x_e, y_e)\n",
    "y_predF = rbf_svr.predict(xF)\n",
    "plt.plot(x_e['WeightImpurity'], y_e, marker='o', color='blue')\n",
    "plt.plot(x['WeightImpurity'], y_predF, marker= 'x',color = 'red')\n",
    "plt.xlabel(\"ratio impurity\")\n",
    "plt.ylabel(\"Elasticity\")\n",
    "plt.title('Elasticity of HPDE_PET')\n",
    "plt.show()"
   ]
  },
  {
   "cell_type": "markdown",
   "id": "944f9448",
   "metadata": {},
   "source": [
    "DESCRIPTORS OF CHEMISTRY IN ML CAN BE SUPER POWERFUL AND CAN BE ASSESSED BY THEIR IMPORTANCE? THEY CAN ENCAPSULATE NONLINEAR BEHAVOIRS AND PATTERNS IN DATA \n",
    "THEY ARE KNWOLEDGE DRIVEN AND THEN TESTED. \n",
    "FOR THIS EXPERIMENT THAT WE HAVE DIFFERENT FAMILIES AND PROPERTIES TO PREDUCT? IT MAY BE EASIER TO COUNT WITH THEM \n",
    "ELSE KERNEL RIDGE REGRESSION WILL BE NEXT STEP. \n",
    "KERNELSCAN BE SIGMMOID? POLYN? LINEAR? HOW TO FIND THE MOST SUITABLE, "
   ]
  },
  {
   "cell_type": "markdown",
   "id": "a4c463da",
   "metadata": {},
   "source": [
    "# filtering"
   ]
  },
  {
   "cell_type": "code",
   "execution_count": null,
   "id": "d1c6735c",
   "metadata": {},
   "outputs": [],
   "source": [
    "# starting with new h1D that was redecued alread, first apply contsnat rep$moval variables of variance "
   ]
  },
  {
   "cell_type": "code",
   "execution_count": null,
   "id": "0011118a",
   "metadata": {},
   "outputs": [],
   "source": [
    "from sklearn.model_selection import train_test_split\n",
    "from sklearn.ensemble import RandomForestClassifier\n",
    "from sklearn.metrics import accuracy_score\n",
    "from sklearn.feature_selection import VarianceThreshold"
   ]
  },
  {
   "cell_type": "code",
   "execution_count": null,
   "id": "60871dfa",
   "metadata": {},
   "outputs": [],
   "source": [
    "# only with ELASTICITY, 14? 18? 24 "
   ]
  },
  {
   "cell_type": "code",
   "execution_count": null,
   "id": "0542e420",
   "metadata": {},
   "outputs": [],
   "source": [
    "x_e = h1D.drop(['matrixSTRENGTH', 'matrixStrainbreak',\n",
    "       'matrixImpact','impuritySTRENGTH',\n",
    "       'impurityStrainbreak', 'impurityImpact', 'blendE', 'blendSTRENGTH', 'blendStrainbreak', 'blendImpact'], axis =1)\n",
    "y_e = h1D['blendE']\n",
    "      "
   ]
  },
  {
   "cell_type": "code",
   "execution_count": null,
   "id": "edeea56d",
   "metadata": {},
   "outputs": [],
   "source": [
    "# forthe moment stratify in E to insure that all values of E are in all sets \n",
    "X_train, X_test, y_train, y_test = train_test_split(x_e, y_e, test_size = 0.2, random_state = 0)"
   ]
  },
  {
   "cell_type": "code",
   "execution_count": null,
   "id": "6968f419",
   "metadata": {},
   "outputs": [],
   "source": [
    "X_test, y_train, y_test = train_test_split(x_e, y_e, test_size = 0.2, random_state = 0)"
   ]
  },
  {
   "cell_type": "code",
   "execution_count": null,
   "id": "a38cf527",
   "metadata": {},
   "outputs": [],
   "source": [
    "# trying for QUASIconstant filter because constant returned 0\n",
    "constant_filter = VarianceThreshold(threshold=0.1)\n",
    "constant_filter.fit(X_train)\n",
    "VarianceThreshold(threshold=0.1)"
   ]
  },
  {
   "cell_type": "code",
   "execution_count": null,
   "id": "4af22f83",
   "metadata": {},
   "outputs": [],
   "source": [
    "constant_filter.get_support().sum()\n",
    "constant_list = [not temp for temp in constant_filter.get_support()]\n",
    "x_e.columns[constant_list]\n",
    "# NONE!!"
   ]
  },
  {
   "cell_type": "markdown",
   "id": "7629f80c",
   "metadata": {},
   "source": [
    "whne threshold =0.1, these are the cols quasi constant: 'WeightImpurity', 'MajorityPolymer_PA1', 'MajorityPolymer_PET1',\n",
    "       'MajorityPolymer_PP1', 'MajorityPolymer_PP2', 'MajorityPolymer_PP3',\n",
    "       'MajorityPolymer_PS2', 'MinorityPolymer_LLDPE1', 'MinorityPolymer_PA1',\n",
    "       'MinorityPolymer_PP2', 'MinorityPolymer_PP3', 'MinorityPolymer_PS2'\n",
    "       \n",
    "       meaning the ratio of impurity; and the Mayority and minority polymer are not that relevant!"
   ]
  },
  {
   "cell_type": "code",
   "execution_count": null,
   "id": "32a66f89",
   "metadata": {},
   "outputs": [],
   "source": [
    "X_train_filter = constant_filter.transform(X_train)\n",
    "X_test_filter = constant_filter.transform(X_test)\n",
    "X_train_filter.shape, X_test_filter.shape, X_train.shape"
   ]
  },
  {
   "cell_type": "code",
   "execution_count": null,
   "id": "6e6f5d7d",
   "metadata": {},
   "outputs": [],
   "source": []
  },
  {
   "cell_type": "markdown",
   "id": "6ec2b41b",
   "metadata": {},
   "source": [
    "**Pearsons Correlation\n",
    "from filetring apply corr for every col with target and find most avalauble "
   ]
  },
  {
   "cell_type": "code",
   "execution_count": null,
   "id": "e4a90dcb",
   "metadata": {},
   "outputs": [],
   "source": [
    "from scipy.stats import pearsonr"
   ]
  },
  {
   "cell_type": "code",
   "execution_count": null,
   "id": "8b190f60",
   "metadata": {},
   "outputs": [],
   "source": []
  }
 ],
 "metadata": {
  "kernelspec": {
   "display_name": "Python 3 (ipykernel)",
   "language": "python",
   "name": "python3"
  },
  "language_info": {
   "codemirror_mode": {
    "name": "ipython",
    "version": 3
   },
   "file_extension": ".py",
   "mimetype": "text/x-python",
   "name": "python",
   "nbconvert_exporter": "python",
   "pygments_lexer": "ipython3",
   "version": "3.8.10"
  }
 },
 "nbformat": 4,
 "nbformat_minor": 5
}
